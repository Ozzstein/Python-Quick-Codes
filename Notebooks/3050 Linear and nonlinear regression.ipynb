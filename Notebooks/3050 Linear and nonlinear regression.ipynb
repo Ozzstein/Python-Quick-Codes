{
 "cells": [
  {
   "cell_type": "markdown",
   "metadata": {},
   "source": [
    "# Linear and nonlinear regression\n",
    "\n",
    "This notebook will use **scipy**, **statsmodels**, and **scikit-learn** for\n",
    "performing linear and nonlinear regressions.\n",
    "\n",
    "The statistical package **statsmodels** and the machine-learning package\n",
    "**scikit-learn** are the packages choice for most regression tasks. The\n",
    "terminology used by the two is different, but there is a degree of overlap. Both\n",
    "are powerful and are evolving rapidly. At this time of writing, **statsmodels**\n",
    "has broader support for time-series analysis (such as ARIMA models), whereas\n",
    "**scikit-learn** has more modern algorithms including ridge regression and\n",
    "Bayesian methods."
   ]
  },
  {
   "cell_type": "code",
   "execution_count": 2,
   "metadata": {
    "attributes": {
     "classes": [],
     "id": "",
     "n": "2"
    }
   },
   "outputs": [],
   "source": [
    "%matplotlib inline\n",
    "import numpy as np\n",
    "import matplotlib.pyplot as plt\n",
    "import pandas as pd"
   ]
  },
  {
   "cell_type": "markdown",
   "metadata": {},
   "source": [
    "First we illustrate the concepts with a very simple 2D example: the relationship\n",
    "between the time students spend studying and their test scores:"
   ]
  },
  {
   "cell_type": "code",
   "execution_count": 3,
   "metadata": {
    "attributes": {
     "classes": [],
     "id": "",
     "n": "3"
    }
   },
   "outputs": [],
   "source": [
    "study_hours = [4, 9, 10, 14, 4, 7, 12, 22, 1, 3, 8, 11, 5, 6, 10, 11, 16, 13, 13, 10]\n",
    "SAT_scores = [390, 580, 650, 730, 410, 530, 600, 790, 350, 400, 590, 640, 450, 520, 690, 690, 770, 700, 730, 640]"
   ]
  },
  {
   "cell_type": "code",
   "execution_count": 4,
   "metadata": {
    "attributes": {
     "classes": [],
     "id": "",
     "n": "4"
    }
   },
   "outputs": [
    {
     "data": {
      "image/png": "[encoded data removed]",
      "text/plain": [
       "<Figure size 432x288 with 1 Axes>"
      ]
     },
     "metadata": {},
     "output_type": "display_data"
    }
   ],
   "source": [
    "plt.plot(study_hours, SAT_scores, 'o')\n",
    "plt.xlabel('Hours studying')\n",
    "plt.ylabel('SAT score');"
   ]
  },
  {
   "cell_type": "markdown",
   "metadata": {},
   "source": [
    "## Linear regression in statsmodels\n",
    "\n",
    "This is the recommended way to import statsmodels:"
   ]
  },
  {
   "cell_type": "code",
   "execution_count": 5,
   "metadata": {
    "attributes": {
     "classes": [],
     "id": "",
     "n": "5"
    }
   },
   "outputs": [
    {
     "name": "stderr",
     "output_type": "stream",
     "text": [
      "/Library/Frameworks/Python.framework/Versions/3.6/lib/python3.6/site-packages/statsmodels/compat/pandas.py:56: FutureWarning: The pandas.core.datetools module is deprecated and will be removed in a future version. Please use the pandas.tseries module instead.\n",
      "  from pandas.core import datetools\n"
     ]
    }
   ],
   "source": [
    "import statsmodels.api as sm"
   ]
  },
  {
   "cell_type": "markdown",
   "metadata": {},
   "source": [
    "Statsmodels can work directly with Pandas Series and DataFrames:"
   ]
  },
  {
   "cell_type": "code",
   "execution_count": 6,
   "metadata": {
    "attributes": {
     "classes": [],
     "id": "",
     "n": "6"
    }
   },
   "outputs": [],
   "source": [
    "X = pd.Series(study_hours, name=\"Hours studying\")\n",
    "Y = pd.Series(SAT_scores, name=\"SAT score\")"
   ]
  },
  {
   "cell_type": "code",
   "execution_count": 7,
   "metadata": {
    "attributes": {
     "classes": [],
     "id": "",
     "n": "7"
    }
   },
   "outputs": [],
   "source": [
    "# Our model needs an intercept so we add a column of 1s:\n",
    "X = sm.add_constant(X, prepend=False)"
   ]
  },
  {
   "cell_type": "code",
   "execution_count": 8,
   "metadata": {
    "attributes": {
     "classes": [],
     "id": "",
     "n": "8"
    }
   },
   "outputs": [],
   "source": [
    "model = sm.OLS(Y, X)   # ordinary least squares"
   ]
  },
  {
   "cell_type": "code",
   "execution_count": 9,
   "metadata": {
    "attributes": {
     "classes": [],
     "id": "",
     "n": "9"
    }
   },
   "outputs": [],
   "source": [
    "results = model.fit()"
   ]
  },
  {
   "cell_type": "code",
   "execution_count": 11,
   "metadata": {
    "attributes": {
     "classes": [],
     "id": "",
     "n": "11"
    }
   },
   "outputs": [
    {
     "name": "stdout",
     "output_type": "stream",
     "text": [
      "                            OLS Regression Results                            \n",
      "==============================================================================\n",
      "Dep. Variable:              SAT score   R-squared:                       0.872\n",
      "Model:                            OLS   Adj. R-squared:                  0.864\n",
      "Method:                 Least Squares   F-statistic:                     122.2\n",
      "Date:                Thu, 09 Aug 2018   Prob (F-statistic):           1.87e-09\n",
      "Time:                        22:34:06   Log-Likelihood:                -105.45\n",
      "No. Observations:                  20   AIC:                             214.9\n",
      "Df Residuals:                      18   BIC:                             216.9\n",
      "Df Model:                           1                                         \n",
      "Covariance Type:            nonrobust                                         \n",
      "==================================================================================\n",
      "                     coef    std err          t      P>|t|      [0.025      0.975]\n",
      "----------------------------------------------------------------------------------\n",
      "Hours studying    25.3265      2.291     11.055      0.000      20.513      30.140\n",
      "const            353.1649     24.337     14.511      0.000     302.034     404.296\n",
      "==============================================================================\n",
      "Omnibus:                        2.453   Durbin-Watson:                   1.018\n",
      "Prob(Omnibus):                  0.293   Jarque-Bera (JB):                1.285\n",
      "Skew:                          -0.614   Prob(JB):                        0.526\n",
      "Kurtosis:                       3.191   Cond. No.                         23.4\n",
      "==============================================================================\n",
      "\n",
      "Warnings:\n",
      "[1] Standard Errors assume that the covariance matrix of the errors is correctly specified.\n"
     ]
    }
   ],
   "source": [
    "print(results.summary())"
   ]
  },
  {
   "cell_type": "code",
   "execution_count": 12,
   "metadata": {
    "attributes": {
     "classes": [],
     "id": "",
     "n": "12"
    }
   },
   "outputs": [
    {
     "data": {
      "text/plain": [
       "Hours studying     25.326468\n",
       "const             353.164879\n",
       "dtype: float64"
      ]
     },
     "execution_count": 12,
     "metadata": {},
     "output_type": "execute_result"
    }
   ],
   "source": [
    "results.params"
   ]
  },
  {
   "cell_type": "code",
   "execution_count": 13,
   "metadata": {
    "attributes": {
     "classes": [],
     "id": "",
     "n": "13"
    }
   },
   "outputs": [
    {
     "data": {
      "text/plain": [
       "0     454.470751\n",
       "1     581.103089\n",
       "2     606.429557\n",
       "3     707.735428\n",
       "4     454.470751\n",
       "5     530.450154\n",
       "6     657.082493\n",
       "7     910.347171\n",
       "8     378.491347\n",
       "9     429.144283\n",
       "10    555.776622\n",
       "11    631.756025\n",
       "12    479.797218\n",
       "13    505.123686\n",
       "14    606.429557\n",
       "15    631.756025\n",
       "16    758.388364\n",
       "17    682.408961\n",
       "18    682.408961\n",
       "19    606.429557\n",
       "dtype: float64"
      ]
     },
     "execution_count": 13,
     "metadata": {},
     "output_type": "execute_result"
    }
   ],
   "source": [
    "results.predict(X)"
   ]
  },
  {
   "cell_type": "code",
   "execution_count": 14,
   "metadata": {
    "attributes": {
     "classes": [],
     "id": "",
     "n": "14"
    }
   },
   "outputs": [
    {
     "data": {
      "image/png": "[encoded data removed]",
      "text/plain": [
       "<Figure size 432x288 with 1 Axes>"
      ]
     },
     "metadata": {},
     "output_type": "display_data"
    }
   ],
   "source": [
    "x = np.linspace(0, 35)\n",
    "fitted = results.predict(sm.add_constant(x, prepend=False))\n",
    "plt.plot(study_hours, SAT_scores, 'o')\n",
    "plt.plot(x, fitted)\n",
    "plt.xlim(0, 35)\n",
    "plt.ylim(0, 800);"
   ]
  },
  {
   "cell_type": "markdown",
   "metadata": {},
   "source": [
    "### Formula interface\n",
    "\n",
    "A package called **patsy** makes it easy to create design matrices for\n",
    "statistical packages like **statsmodels** using R-style formulas as strings. Use\n",
    "it like this:"
   ]
  },
  {
   "cell_type": "code",
   "execution_count": 15,
   "metadata": {
    "attributes": {
     "classes": [],
     "id": "",
     "n": "15"
    }
   },
   "outputs": [],
   "source": [
    "df = sm.datasets.get_rdataset(\"Guerry\", \"HistData\").data"
   ]
  },
  {
   "cell_type": "code",
   "execution_count": 16,
   "metadata": {
    "attributes": {
     "classes": [],
     "id": "",
     "n": "16"
    }
   },
   "outputs": [],
   "source": [
    "import patsy"
   ]
  },
  {
   "cell_type": "code",
   "execution_count": 17,
   "metadata": {
    "attributes": {
     "classes": [],
     "id": "",
     "n": "17"
    }
   },
   "outputs": [],
   "source": [
    "y, X = patsy.dmatrices('Lottery ~ Literacy * Wealth', df, return_type='dataframe')\n",
    "model = sm.OLS(y, X)   # ordinary least squares"
   ]
  },
  {
   "cell_type": "markdown",
   "metadata": {},
   "source": [
    "Recent versions of the **statsmodels** package also support this newer interface\n",
    "with R-style formulas directly:"
   ]
  },
  {
   "cell_type": "code",
   "execution_count": 18,
   "metadata": {
    "attributes": {
     "classes": [],
     "id": "",
     "n": "18"
    }
   },
   "outputs": [],
   "source": [
    "import statsmodels.formula.api as smf\n",
    "\n",
    "model = smf.ols(formula='Lottery ~ Literacy * Wealth', data=df)"
   ]
  },
  {
   "cell_type": "markdown",
   "metadata": {},
   "source": [
    "And then we can fit and use the model as before with ``model.fit()`` etc.\n",
    "\n",
    "Note that various transformations of the input variables are supported, such as\n",
    "this:"
   ]
  },
  {
   "cell_type": "code",
   "execution_count": 19,
   "metadata": {
    "attributes": {
     "classes": [],
     "id": "",
     "n": "19"
    }
   },
   "outputs": [],
   "source": [
    "model = smf.ols(formula='Lottery ~ np.log(Literacy) * Wealth', data=df)"
   ]
  },
  {
   "cell_type": "markdown",
   "metadata": {},
   "source": [
    "## Linear regression with scikit-learn\n",
    "\n",
    "Before moving onto a non-linear regression example, we show how we can perform a\n",
    "linear regression using **scikit-learn**."
   ]
  },
  {
   "cell_type": "code",
   "execution_count": 20,
   "metadata": {
    "attributes": {
     "classes": [],
     "id": "",
     "n": "20"
    }
   },
   "outputs": [],
   "source": [
    "import matplotlib.pyplot as plt\n",
    "import numpy as np\n",
    "from sklearn import datasets, linear_model"
   ]
  },
  {
   "cell_type": "code",
   "execution_count": 21,
   "metadata": {
    "attributes": {
     "classes": [],
     "id": "",
     "n": "21"
    }
   },
   "outputs": [],
   "source": [
    "# Load the diabetes dataset\n",
    "diabetes = datasets.load_diabetes()"
   ]
  },
  {
   "cell_type": "code",
   "execution_count": 22,
   "metadata": {
    "attributes": {
     "classes": [],
     "id": "",
     "n": "22"
    }
   },
   "outputs": [],
   "source": [
    "# Use only one feature\n",
    "diabetes_X = diabetes.data[:, np.newaxis]\n",
    "diabetes_X_temp = diabetes_X[:, :, 2]\n",
    "\n",
    "# Split the data into training/testing sets\n",
    "diabetes_X_train = diabetes_X_temp[:-20]\n",
    "diabetes_X_test = diabetes_X_temp[-20:]\n",
    "\n",
    "# Split the targets into training/testing sets\n",
    "diabetes_y_train = diabetes.target[:-20]\n",
    "diabetes_y_test = diabetes.target[-20:]"
   ]
  },
  {
   "cell_type": "code",
   "execution_count": 23,
   "metadata": {
    "attributes": {
     "classes": [],
     "id": "",
     "n": "23"
    }
   },
   "outputs": [
    {
     "name": "stderr",
     "output_type": "stream",
     "text": [
      "/Library/Frameworks/Python.framework/Versions/3.6/lib/python3.6/site-packages/sklearn/linear_model/base.py:509: RuntimeWarning: internal gelsd driver lwork query error, required iwork dimension not returned. This is likely the result of LAPACK bug 0038, fixed in LAPACK 3.2.2 (released July 21, 2010). Falling back to 'gelss' driver.\n",
      "  linalg.lstsq(X, y)\n"
     ]
    },
    {
     "data": {
      "text/plain": [
       "LinearRegression(copy_X=True, fit_intercept=True, n_jobs=1, normalize=False)"
      ]
     },
     "execution_count": 23,
     "metadata": {},
     "output_type": "execute_result"
    }
   ],
   "source": [
    "# Create linear regression object\n",
    "regr = linear_model.LinearRegression()\n",
    "\n",
    "# Train the model using the training sets\n",
    "regr.fit(diabetes_X_train, diabetes_y_train)"
   ]
  },
  {
   "cell_type": "code",
   "execution_count": 24,
   "metadata": {
    "attributes": {
     "classes": [],
     "id": "",
     "n": "24"
    }
   },
   "outputs": [
    {
     "name": "stdout",
     "output_type": "stream",
     "text": [
      "Coefficients: \n",
      " [938.23786125]\n",
      "Residual sum of squares: 2548.07\n",
      "Variance score: 0.47\n"
     ]
    }
   ],
   "source": [
    "# The coefficients\n",
    "print('Coefficients: \\n', regr.coef_)\n",
    "# The mean square error\n",
    "print(\"Residual sum of squares: %.2f\"\n",
    "      % np.mean((regr.predict(diabetes_X_test) - diabetes_y_test) ** 2))\n",
    "# Explained variance score: 1 is perfect prediction\n",
    "print('Variance score: %.2f' % regr.score(diabetes_X_test, diabetes_y_test))"
   ]
  },
  {
   "cell_type": "code",
   "execution_count": 25,
   "metadata": {
    "attributes": {
     "classes": [],
     "id": "",
     "n": "25"
    }
   },
   "outputs": [
    {
     "data": {
      "text/plain": [
       "([], <a list of 0 Text yticklabel objects>)"
      ]
     },
     "execution_count": 25,
     "metadata": {},
     "output_type": "execute_result"
    },
    {
     "data": {
      "image/png": "[encoded data removed]",
      "text/plain": [
       "<Figure size 432x288 with 1 Axes>"
      ]
     },
     "metadata": {},
     "output_type": "display_data"
    }
   ],
   "source": [
    "# Plot outputs\n",
    "plt.scatter(diabetes_X_test, diabetes_y_test,  color='black')\n",
    "plt.plot(diabetes_X_test, regr.predict(diabetes_X_test), color='blue',\n",
    "         linewidth=3)\n",
    "\n",
    "plt.xticks(())\n",
    "plt.yticks(())"
   ]
  },
  {
   "cell_type": "markdown",
   "metadata": {},
   "source": [
    "## Non-linear regression example\n",
    "\n",
    "This example shows ordinary least-squares with a non-linear curve that is linear\n",
    "in the parameters. (It comes from ``statsmodels/examples/example_OLS.py`` in the\n",
    "statsmodels source tree.)"
   ]
  },
  {
   "cell_type": "code",
   "execution_count": 26,
   "metadata": {
    "attributes": {
     "classes": [],
     "id": "",
     "n": "26"
    }
   },
   "outputs": [],
   "source": [
    "# Non-linear relationship between x and y\n",
    "N = 50  # number of samples\n",
    "sig = 0.5\n",
    "x = np.linspace(0, 20, N)\n",
    "X3 = np.c_[x, np.sin(x), (x - 5)**2, np.ones(N)]"
   ]
  },
  {
   "cell_type": "code",
   "execution_count": 27,
   "metadata": {
    "attributes": {
     "classes": [],
     "id": "",
     "n": "27"
    }
   },
   "outputs": [],
   "source": [
    "np.random.seed(42)    # for deterministic output\n",
    "beta = [0.5, 0.5, -0.02, 5.]\n",
    "y_true = np.dot(X3, beta)\n",
    "y = y_true + sig * np.random.normal(size=N)"
   ]
  },
  {
   "cell_type": "code",
   "execution_count": 28,
   "metadata": {
    "attributes": {
     "classes": [],
     "id": "",
     "n": "28"
    }
   },
   "outputs": [
    {
     "name": "stdout",
     "output_type": "stream",
     "text": [
      "                            OLS Regression Results                            \n",
      "==============================================================================\n",
      "Dep. Variable:                      y   R-squared:                       0.939\n",
      "Model:                            OLS   Adj. R-squared:                  0.935\n",
      "Method:                 Least Squares   F-statistic:                     237.5\n",
      "Date:                Thu, 09 Aug 2018   Prob (F-statistic):           5.38e-28\n",
      "Time:                        22:34:30   Log-Likelihood:                -30.387\n",
      "No. Observations:                  50   AIC:                             68.77\n",
      "Df Residuals:                      46   BIC:                             76.42\n",
      "Df Model:                           3                                         \n",
      "Covariance Type:            nonrobust                                         \n",
      "==============================================================================\n",
      "                 coef    std err          t      P>|t|      [0.025      0.975]\n",
      "------------------------------------------------------------------------------\n",
      "x1             0.4620      0.024     18.972      0.000       0.413       0.511\n",
      "x2             0.5648      0.096      5.900      0.000       0.372       0.757\n",
      "x3            -0.0175      0.002     -8.207      0.000      -0.022      -0.013\n",
      "const          5.1185      0.158     32.418      0.000       4.801       5.436\n",
      "==============================================================================\n",
      "Omnibus:                        0.177   Durbin-Watson:                   2.031\n",
      "Prob(Omnibus):                  0.915   Jarque-Bera (JB):                0.330\n",
      "Skew:                           0.119   Prob(JB):                        0.848\n",
      "Kurtosis:                       2.682   Cond. No.                         221.\n",
      "==============================================================================\n",
      "\n",
      "Warnings:\n",
      "[1] Standard Errors assume that the covariance matrix of the errors is correctly specified.\n"
     ]
    }
   ],
   "source": [
    "# Fit and summary\n",
    "res = sm.OLS(y, X3).fit()\n",
    "print(res.summary())"
   ]
  },
  {
   "cell_type": "code",
   "execution_count": 29,
   "metadata": {
    "attributes": {
     "classes": [],
     "id": "",
     "n": "29"
    }
   },
   "outputs": [],
   "source": [
    "# Draw a plot to compare the true relationship to OLS predictions. Confidence\n",
    "# intervals around the predictions are built using the ``wls_prediction_std``\n",
    "# function.\n",
    "\n",
    "from statsmodels.sandbox.regression.predstd import wls_prediction_std\n",
    "\n",
    "prstd, iv_l, iv_u = wls_prediction_std(res)"
   ]
  },
  {
   "cell_type": "code",
   "execution_count": 30,
   "metadata": {
    "attributes": {
     "classes": [],
     "id": "",
     "n": "30"
    }
   },
   "outputs": [
    {
     "data": {
      "image/png": "[encoded data removed]",
      "text/plain": [
       "<Figure size 432x288 with 1 Axes>"
      ]
     },
     "metadata": {},
     "output_type": "display_data"
    }
   ],
   "source": [
    "plt.figure()\n",
    "plt.plot(x, y, 'o', x, y_true, 'b-')\n",
    "\n",
    "plt.plot(x, res.fittedvalues, 'r--.')\n",
    "plt.plot(x, iv_u, 'r--', x, iv_l, 'r--')\n",
    "# savefig('ols_predict_0.png')\n",
    "plt.title('blue: true,   red: OLS');"
   ]
  },
  {
   "cell_type": "markdown",
   "metadata": {},
   "source": [
    "## Robust regression\n",
    "\n",
    "Both **statsmodels** and **scikit-learn** support robust methods of regression\n",
    "that are less sensitive to the presence of outliers than methods such as least\n",
    "squares. Here are two visual examples comparing the ordinary least squares\n",
    "algorithm with the Random Sample Consensus (RANSAC) algorithm implemented in\n",
    "scikit-learn as ``RANSACRegressor``:"
   ]
  },
  {
   "cell_type": "code",
   "execution_count": 44,
   "metadata": {
    "attributes": {
     "classes": [],
     "id": "",
     "n": "44"
    }
   },
   "outputs": [],
   "source": [
    "from sklearn.linear_model import LinearRegression, RANSACRegressor"
   ]
  },
  {
   "cell_type": "markdown",
   "metadata": {},
   "source": [
    "The following examples are based on the ``plot_theilsen.py`` code in scikit-\n",
    "learn by Florian Wilhelm. License: BSD 3-clause.\n",
    "\n",
    "First we generate data with outliers only in the y direction:"
   ]
  },
  {
   "cell_type": "code",
   "execution_count": 45,
   "metadata": {
    "attributes": {
     "classes": [],
     "id": "",
     "n": "45"
    }
   },
   "outputs": [],
   "source": [
    "n_samples = 200\n",
    "\n",
    "# Linear model y = 3*x + N(2, 0.1**2)\n",
    "x = np.random.randn(n_samples)\n",
    "noise = 0.1 * np.random.randn(n_samples)\n",
    "y_orig = 3 * x + 2 + noise\n",
    "y = y_orig.copy()\n",
    "\n",
    "# 10% outliers\n",
    "y[-20:] += -20 * x[-20:]\n",
    "X = x[:, np.newaxis]"
   ]
  },
  {
   "cell_type": "code",
   "execution_count": 46,
   "metadata": {
    "attributes": {
     "classes": [],
     "id": "",
     "n": "46"
    }
   },
   "outputs": [],
   "source": [
    "estimators = [('OLS', LinearRegression()),\n",
    "              ('RANSAC', RANSACRegressor(random_state=42)), ]"
   ]
  },
  {
   "cell_type": "code",
   "execution_count": 47,
   "metadata": {
    "attributes": {
     "classes": [],
     "id": "",
     "n": "47"
    }
   },
   "outputs": [
    {
     "data": {
      "image/png": "[encoded data removed]",
      "text/plain": [
       "<Figure size 432x288 with 1 Axes>"
      ]
     },
     "metadata": {},
     "output_type": "display_data"
    }
   ],
   "source": [
    "plt.plot(x, y, 'k+', mew=2, ms=8)\n",
    "line_x = np.array([-3, 3])\n",
    "for name, estimator in estimators:\n",
    "    estimator.fit(X, y)\n",
    "    y_pred = estimator.predict(line_x.reshape(2, 1))\n",
    "    plt.plot(line_x, y_pred,\n",
    "             label=name)\n",
    "\n",
    "plt.axis('tight')\n",
    "plt.legend(loc='upper left');"
   ]
  },
  {
   "cell_type": "markdown",
   "metadata": {},
   "source": [
    "The following example also has outliers in the X direction:"
   ]
  },
  {
   "cell_type": "code",
   "execution_count": 48,
   "metadata": {
    "attributes": {
     "classes": [],
     "id": "",
     "n": "48"
    }
   },
   "outputs": [],
   "source": [
    "# 10% outliers\n",
    "x[-20:] = 9.9\n",
    "X = x[:, np.newaxis]"
   ]
  },
  {
   "cell_type": "code",
   "execution_count": 49,
   "metadata": {
    "attributes": {
     "classes": [],
     "id": "",
     "n": "49"
    }
   },
   "outputs": [
    {
     "data": {
      "image/png": "[encoded data removed]",
      "text/plain": [
       "<Figure size 432x288 with 1 Axes>"
      ]
     },
     "metadata": {},
     "output_type": "display_data"
    }
   ],
   "source": [
    "plt.figure()\n",
    "plt.plot(x, y, 'k+', mew=2, ms=8)\n",
    "\n",
    "line_x = np.array([-3, 10])\n",
    "for name, estimator in estimators:\n",
    "    estimator.fit(X, y)\n",
    "    y_pred = estimator.predict(line_x.reshape(2, 1))\n",
    "    plt.plot(line_x, y_pred,\n",
    "             label=name)\n",
    "\n",
    "plt.axis('tight')\n",
    "plt.legend(loc='upper left')\n",
    "plt.show()"
   ]
  }
 ],
 "metadata": {},
 "nbformat": 4,
 "nbformat_minor": 2
}
