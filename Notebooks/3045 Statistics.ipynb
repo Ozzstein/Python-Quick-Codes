{
 "cells": [
  {
   "cell_type": "markdown",
   "metadata": {},
   "source": [
    "# Statistics\n",
    "\n",
    "## Parametric statistics\n",
    "\n",
    "### Example: fitting a normal distribution to heights"
   ]
  },
  {
   "cell_type": "code",
   "execution_count": 1,
   "metadata": {
    "attributes": {
     "classes": [],
     "id": "",
     "n": "1"
    }
   },
   "outputs": [],
   "source": [
    "%matplotlib inline"
   ]
  },
  {
   "cell_type": "code",
   "execution_count": 2,
   "metadata": {
    "attributes": {
     "classes": [],
     "id": "",
     "n": "2"
    }
   },
   "outputs": [],
   "source": [
    "import numpy as np\n",
    "import matplotlib.pyplot as plt\n",
    "\n",
    "from scipy.stats import gamma, norm"
   ]
  },
  {
   "cell_type": "code",
   "execution_count": 3,
   "metadata": {
    "attributes": {
     "classes": [],
     "id": "",
     "n": "3"
    }
   },
   "outputs": [],
   "source": [
    "heights = {'Fred': 151, 'Barney': 168, 'Bambam': 162, 'Betty': 151,\n",
    "           'Dino': 121}"
   ]
  },
  {
   "cell_type": "code",
   "execution_count": 4,
   "metadata": {
    "attributes": {
     "classes": [],
     "id": "",
     "n": "4"
    }
   },
   "outputs": [
    {
     "data": {
      "text/plain": [
       "dict_values([151, 168, 162, 151, 121])"
      ]
     },
     "execution_count": 4,
     "metadata": {},
     "output_type": "execute_result"
    }
   ],
   "source": [
    "heights.values()"
   ]
  },
  {
   "cell_type": "code",
   "execution_count": 5,
   "metadata": {
    "attributes": {
     "classes": [],
     "id": "",
     "n": "5"
    }
   },
   "outputs": [
    {
     "data": {
      "text/plain": [
       "array([151., 168., 162., 151., 121.])"
      ]
     },
     "execution_count": 5,
     "metadata": {},
     "output_type": "execute_result"
    }
   ],
   "source": [
    "# h = np.array(list(heights.values()))\n",
    "h = np.fromiter(heights.values(), dtype=float)\n",
    "h"
   ]
  },
  {
   "cell_type": "code",
   "execution_count": 6,
   "metadata": {
    "attributes": {
     "classes": [],
     "id": "",
     "n": "6"
    }
   },
   "outputs": [
    {
     "data": {
      "text/plain": [
       "(227.95784034691542, -103.25325173196285, 1.1128286000161531)"
      ]
     },
     "execution_count": 6,
     "metadata": {},
     "output_type": "execute_result"
    }
   ],
   "source": [
    "gamma.fit(h)"
   ]
  },
  {
   "cell_type": "code",
   "execution_count": 7,
   "metadata": {
    "attributes": {
     "classes": [],
     "id": "",
     "n": "7"
    }
   },
   "outputs": [],
   "source": [
    "# Capture the fitted parameters (mean and standard deviation)\n",
    "params = gamma.fit(h)"
   ]
  },
  {
   "cell_type": "code",
   "execution_count": 8,
   "metadata": {
    "attributes": {
     "classes": [],
     "id": "",
     "n": "8"
    }
   },
   "outputs": [
    {
     "data": {
      "text/plain": [
       "(227.95784034691542, -103.25325173196285, 1.1128286000161531)"
      ]
     },
     "execution_count": 8,
     "metadata": {},
     "output_type": "execute_result"
    }
   ],
   "source": [
    "params"
   ]
  },
  {
   "cell_type": "code",
   "execution_count": 9,
   "metadata": {
    "attributes": {
     "classes": [],
     "id": "",
     "n": "9"
    }
   },
   "outputs": [],
   "source": [
    "# model = gamma(params[0], params[1], params[2])\n",
    "model = gamma(*params)"
   ]
  },
  {
   "cell_type": "code",
   "execution_count": 10,
   "metadata": {
    "attributes": {
     "classes": [],
     "id": "",
     "n": "10"
    }
   },
   "outputs": [
    {
     "data": {
      "text/plain": [
       "array([137.9039698 , 158.79228536, 135.31092308, 149.92535981,\n",
       "       162.31461619, 145.55164812, 142.14625904, 132.67161673,\n",
       "       162.01158593, 167.10666417])"
      ]
     },
     "execution_count": 10,
     "metadata": {},
     "output_type": "execute_result"
    }
   ],
   "source": [
    "h2 = model.rvs(10000)\n",
    "h2[:10]"
   ]
  },
  {
   "cell_type": "code",
   "execution_count": 11,
   "metadata": {
    "attributes": {
     "classes": [],
     "id": "",
     "n": "11"
    }
   },
   "outputs": [],
   "source": [
    "x = np.linspace(80, 230, 100)\n",
    "y = model.pdf(x)"
   ]
  },
  {
   "cell_type": "code",
   "execution_count": 12,
   "metadata": {
    "attributes": {
     "classes": [],
     "id": "",
     "n": "12"
    }
   },
   "outputs": [
    {
     "data": {
      "image/png": "[encoded data removed]",
      "text/plain": [
       "<Figure size 432x288 with 1 Axes>"
      ]
     },
     "metadata": {},
     "output_type": "display_data"
    }
   ],
   "source": [
    "plt.hist(h, density=True, alpha=0.5);\n",
    "plt.hist(h2, density=True, alpha=0.5, bins=40);\n",
    "plt.plot(x, y);"
   ]
  },
  {
   "cell_type": "code",
   "execution_count": 13,
   "metadata": {
    "attributes": {
     "classes": [],
     "id": "",
     "n": "13"
    }
   },
   "outputs": [],
   "source": [
    "from scipy.stats import normaltest"
   ]
  },
  {
   "cell_type": "code",
   "execution_count": 14,
   "metadata": {
    "attributes": {
     "classes": [],
     "id": "",
     "n": "14"
    }
   },
   "outputs": [
    {
     "data": {
      "text/plain": [
       "NormaltestResult(statistic=29.62380640824636, pvalue=3.692089089753095e-07)"
      ]
     },
     "execution_count": 14,
     "metadata": {},
     "output_type": "execute_result"
    }
   ],
   "source": [
    "normaltest(h2)"
   ]
  },
  {
   "cell_type": "code",
   "execution_count": 15,
   "metadata": {
    "attributes": {
     "classes": [],
     "id": "",
     "n": "15"
    }
   },
   "outputs": [],
   "source": [
    "(_, p_value) = normaltest(h2)"
   ]
  },
  {
   "cell_type": "code",
   "execution_count": 16,
   "metadata": {
    "attributes": {
     "classes": [],
     "id": "",
     "n": "16"
    }
   },
   "outputs": [
    {
     "data": {
      "text/plain": [
       "False"
      ]
     },
     "execution_count": 16,
     "metadata": {},
     "output_type": "execute_result"
    }
   ],
   "source": [
    "p_value > 0.05"
   ]
  },
  {
   "cell_type": "markdown",
   "metadata": {},
   "source": [
    "So we accept the normality hypothesis.\n",
    "\n",
    "## Nonparametric statistics\n",
    "\n",
    "Most of the methods of classical statistics were derived by mathematicians prior\n",
    "to the advent of modern-day computers. As a result, they mostly describe\n",
    "solutions in terms of assumptions and probability distributions that are\n",
    "mathematically convenient but not necessarily reflective of your real-world\n",
    "data. As a result, statistics has traditionally been hard for non-mathematicians\n",
    "to learn and easy to mis-apply.\n",
    "\n",
    "Good news: in the last few decades, recent advances in computing power have\n",
    "given birth to **nonparametric** statistical methods that are relatively simple\n",
    "to apply and make fewer assumptions about your data. These can lead to\n",
    "reasonable conclusions in a wide variety of situations.\n",
    "\n",
    "### Empirical data fitting\n",
    "\n",
    "This illustrates a powerful method of fitting a model (pdf) to data empirically.\n",
    "This is useful when you have no prior information about the governing process or\n",
    "the parametric form of its distribution.\n",
    "\n",
    "Here we simulate multiple sources of data from different distributions:"
   ]
  },
  {
   "cell_type": "code",
   "execution_count": 17,
   "metadata": {
    "attributes": {
     "classes": [],
     "id": "",
     "n": "17"
    }
   },
   "outputs": [],
   "source": [
    "# One way of generating random variates from a normal distribution: using numpy.random (imported as nr)\n",
    "heights_holland = np.random.randn(1000) * 5 + 180"
   ]
  },
  {
   "cell_type": "code",
   "execution_count": 18,
   "metadata": {
    "attributes": {
     "classes": [],
     "id": "",
     "n": "18"
    }
   },
   "outputs": [],
   "source": [
    "# Another way: using scipy.stats. This module defines many more distributions that NumPy:\n",
    "heights_australia = norm(160, 15).rvs(1000)"
   ]
  },
  {
   "cell_type": "code",
   "execution_count": 19,
   "metadata": {
    "attributes": {
     "classes": [],
     "id": "",
     "n": "19"
    }
   },
   "outputs": [],
   "source": [
    "# Combine all the data into one array\n",
    "all_heights = np.hstack([heights_australia, heights_holland])"
   ]
  },
  {
   "cell_type": "code",
   "execution_count": 20,
   "metadata": {
    "attributes": {
     "classes": [],
     "id": "",
     "n": "20"
    }
   },
   "outputs": [],
   "source": [
    "# Manually set the bin boundaries:\n",
    "b = np.linspace(all_heights.min(), all_heights.max(), 20)"
   ]
  },
  {
   "cell_type": "code",
   "execution_count": 21,
   "metadata": {
    "attributes": {
     "classes": [],
     "id": "",
     "n": "21"
    }
   },
   "outputs": [
    {
     "data": {
      "image/png": "[encoded data removed]",
      "text/plain": [
       "<Figure size 432x288 with 1 Axes>"
      ]
     },
     "metadata": {},
     "output_type": "display_data"
    }
   ],
   "source": [
    "plt.hist(all_heights, bins=b, alpha=0.4)\n",
    "plt.hist(heights_holland, bins=b, alpha=0.4)\n",
    "plt.hist(heights_australia, bins=b, alpha=0.4)\n",
    "plt.legend(['All', 'AUS', 'NDL'])\n",
    "plt.xlabel('heights (cm)');"
   ]
  },
  {
   "cell_type": "code",
   "execution_count": 22,
   "metadata": {
    "attributes": {
     "classes": [],
     "id": "",
     "n": "22"
    }
   },
   "outputs": [],
   "source": [
    "from scipy.stats import gaussian_kde"
   ]
  },
  {
   "cell_type": "code",
   "execution_count": 23,
   "metadata": {
    "attributes": {
     "classes": [],
     "id": "",
     "n": "23"
    }
   },
   "outputs": [],
   "source": [
    "model = gaussian_kde(all_heights)"
   ]
  },
  {
   "cell_type": "markdown",
   "metadata": {},
   "source": [
    "Now model is \"function-like\": it can be called like a function as model(x),\n",
    "passing in the x values to evaluate the pdf over."
   ]
  },
  {
   "cell_type": "code",
   "execution_count": 24,
   "metadata": {
    "attributes": {
     "classes": [],
     "id": "",
     "n": "24"
    }
   },
   "outputs": [],
   "source": [
    "x = np.linspace(all_heights.min(), all_heights.max(), 100)\n",
    "y = model(x)"
   ]
  },
  {
   "cell_type": "code",
   "execution_count": 25,
   "metadata": {
    "attributes": {
     "classes": [],
     "id": "",
     "n": "25"
    }
   },
   "outputs": [
    {
     "data": {
      "image/png": "[encoded data removed]",
      "text/plain": [
       "<Figure size 432x288 with 1 Axes>"
      ]
     },
     "metadata": {},
     "output_type": "display_data"
    }
   ],
   "source": [
    "plt.hist(all_heights, bins=b, density=True, alpha=0.4)\n",
    "plt.plot(x, y, 'r-');"
   ]
  },
  {
   "cell_type": "markdown",
   "metadata": {},
   "source": [
    "## Bootstrap\n",
    "\n",
    "The \"bootstrap\" is a computational procedure that can be used to estimate the\n",
    "distribution of almost any statistic by repeated random sampling from your data.\n",
    "It is the best-known from a family of **resampling** procedures. It is used for:\n",
    "- constructing hypothesis tests\n",
    "- constructing confidence intervals\n",
    "- regression\n",
    "\n",
    "Because it is **nonparametric**, it is particularly useful when working with\n",
    "data that doesn't come from any known distribution (which includes most real-\n",
    "world data), or with small sample sizes. It provides a simple and robust\n",
    "alternative to classical statistics theory (e.g. t-statistic, z-statistic, chi-\n",
    "square tests, etc.)\n",
    "\n",
    "### Example: estimating the mean (and confidence intervals for it)\n",
    "\n",
    "Suppose you have $\\approx$ 3652 daily rainfall data for 10 years for some\n",
    "location and want to draw conclusions about the true mean rainfall (e.g.\n",
    "overall, or each year, or each month) and confidence intervals about this.\n",
    "\n",
    "Using classical statistics, one would construct a *t statistic* to do this and\n",
    "apply a t test while trying not to violate its assumptions too egregiously.\n",
    "Using the bootstrap, one would instead have a computer do this:\n",
    "\n",
    "1. Randomly choose the same number of samples (here 3652) **with replacement**\n",
    "from the original data. There will be repeats in general. Then we compute the\n",
    "first bootstrap mean $\\mu_1$ of this resample.\n",
    "2. Repeat step 1 many times (e.g. 1000) and compute these further bootstrap\n",
    "means $\\mu_2, ..., \\mu_{1000}$.\n",
    "\n",
    "Then we can construct a bootstrap confidence interval for the purpose of\n",
    "hypothesis testing.\n",
    "\n",
    "We could do this manually in Excel, or we can use a pre-written package in\n",
    "Python or R to do this for us. Here is how we can do this in Python.\n",
    "\n",
    "### First: read in the data\n",
    "\n",
    "You can download the rainfall data from the BOM website:\n",
    "http://www.bom.gov.au/climate/data/"
   ]
  },
  {
   "cell_type": "code",
   "execution_count": 47,
   "metadata": {
    "attributes": {
     "classes": [],
     "id": "",
     "n": "47"
    }
   },
   "outputs": [],
   "source": [
    "%config InlineBackend.figure_format = 'retina'\n",
    "import matplotlib\n",
    "matplotlib.rcParams['figure.figsize'] = (20.0, 10.0)\n",
    "\n",
    "# Import other useful libraries\n",
    "import pandas as pd\n",
    "import seaborn as sns\n",
    "import numpy as np\n",
    "import scipy.stats as stats\n",
    "\n",
    "# Limit the number of rows of DataFrames to display:\n",
    "pd.options.display.max_rows = 25\n",
    "\n",
    "# If Altair is installed:\n",
    "# from altair import Chart, load_dataset\n",
    "\n",
    "# If Cufflinks is installed:\n",
    "# import cufflinks as cf\n",
    "# cf.set_config_file(offline=True)"
   ]
  },
  {
   "cell_type": "code",
   "execution_count": 27,
   "metadata": {
    "attributes": {
     "classes": [],
     "id": "",
     "n": "27"
    }
   },
   "outputs": [],
   "source": [
    "mitcham = pd.read_csv('Data/Rainfall/Bureau_Rainfall_Mitcham/IDCJAC0009_086074_1800_Data.csv')"
   ]
  },
  {
   "cell_type": "markdown",
   "metadata": {},
   "source": [
    "Here are the first 5 rows:"
   ]
  },
  {
   "cell_type": "code",
   "execution_count": 28,
   "metadata": {
    "attributes": {
     "classes": [],
     "id": "",
     "n": "28"
    }
   },
   "outputs": [
    {
     "data": {
      "text/html": [
       "<div>\n",
       "<style scoped>\n",
       "    .dataframe tbody tr th:only-of-type {\n",
       "        vertical-align: middle;\n",
       "    }\n",
       "\n",
       "    .dataframe tbody tr th {\n",
       "        vertical-align: top;\n",
       "    }\n",
       "\n",
       "    .dataframe thead th {\n",
       "        text-align: right;\n",
       "    }\n",
       "</style>\n",
       "<table border=\"1\" class=\"dataframe\">\n",
       "  <thead>\n",
       "    <tr style=\"text-align: right;\">\n",
       "      <th></th>\n",
       "      <th>Product code</th>\n",
       "      <th>Bureau of Meteorology station number</th>\n",
       "      <th>Year</th>\n",
       "      <th>Month</th>\n",
       "      <th>Day</th>\n",
       "      <th>Rainfall amount (millimetres)</th>\n",
       "      <th>Period over which rainfall was measured (days)</th>\n",
       "      <th>Quality</th>\n",
       "    </tr>\n",
       "  </thead>\n",
       "  <tbody>\n",
       "    <tr>\n",
       "      <th>0</th>\n",
       "      <td>IDCJAC0009</td>\n",
       "      <td>86074</td>\n",
       "      <td>1936</td>\n",
       "      <td>1</td>\n",
       "      <td>1</td>\n",
       "      <td>NaN</td>\n",
       "      <td>NaN</td>\n",
       "      <td>NaN</td>\n",
       "    </tr>\n",
       "    <tr>\n",
       "      <th>1</th>\n",
       "      <td>IDCJAC0009</td>\n",
       "      <td>86074</td>\n",
       "      <td>1936</td>\n",
       "      <td>1</td>\n",
       "      <td>2</td>\n",
       "      <td>NaN</td>\n",
       "      <td>NaN</td>\n",
       "      <td>NaN</td>\n",
       "    </tr>\n",
       "    <tr>\n",
       "      <th>2</th>\n",
       "      <td>IDCJAC0009</td>\n",
       "      <td>86074</td>\n",
       "      <td>1936</td>\n",
       "      <td>1</td>\n",
       "      <td>3</td>\n",
       "      <td>NaN</td>\n",
       "      <td>NaN</td>\n",
       "      <td>NaN</td>\n",
       "    </tr>\n",
       "    <tr>\n",
       "      <th>3</th>\n",
       "      <td>IDCJAC0009</td>\n",
       "      <td>86074</td>\n",
       "      <td>1936</td>\n",
       "      <td>1</td>\n",
       "      <td>4</td>\n",
       "      <td>NaN</td>\n",
       "      <td>NaN</td>\n",
       "      <td>NaN</td>\n",
       "    </tr>\n",
       "    <tr>\n",
       "      <th>4</th>\n",
       "      <td>IDCJAC0009</td>\n",
       "      <td>86074</td>\n",
       "      <td>1936</td>\n",
       "      <td>1</td>\n",
       "      <td>5</td>\n",
       "      <td>NaN</td>\n",
       "      <td>NaN</td>\n",
       "      <td>NaN</td>\n",
       "    </tr>\n",
       "  </tbody>\n",
       "</table>\n",
       "</div>"
      ],
      "text/plain": [
       "  Product code  Bureau of Meteorology station number  Year  Month  Day  \\\n",
       "0   IDCJAC0009                                 86074  1936      1    1   \n",
       "1   IDCJAC0009                                 86074  1936      1    2   \n",
       "2   IDCJAC0009                                 86074  1936      1    3   \n",
       "3   IDCJAC0009                                 86074  1936      1    4   \n",
       "4   IDCJAC0009                                 86074  1936      1    5   \n",
       "\n",
       "   Rainfall amount (millimetres)  \\\n",
       "0                            NaN   \n",
       "1                            NaN   \n",
       "2                            NaN   \n",
       "3                            NaN   \n",
       "4                            NaN   \n",
       "\n",
       "   Period over which rainfall was measured (days) Quality  \n",
       "0                                             NaN     NaN  \n",
       "1                                             NaN     NaN  \n",
       "2                                             NaN     NaN  \n",
       "3                                             NaN     NaN  \n",
       "4                                             NaN     NaN  "
      ]
     },
     "execution_count": 28,
     "metadata": {},
     "output_type": "execute_result"
    }
   ],
   "source": [
    "mitcham[:5]"
   ]
  },
  {
   "cell_type": "markdown",
   "metadata": {},
   "source": [
    "Let's start by dropping any rows with missing data (NaN values) in the \"Rainfall\n",
    "amount ...\" column:"
   ]
  },
  {
   "cell_type": "code",
   "execution_count": 29,
   "metadata": {
    "attributes": {
     "classes": [],
     "id": "",
     "n": "29"
    }
   },
   "outputs": [],
   "source": [
    "mitcham.dropna(subset=['Rainfall amount (millimetres)'],\n",
    "               inplace=True)"
   ]
  },
  {
   "cell_type": "code",
   "execution_count": 30,
   "metadata": {
    "attributes": {
     "classes": [],
     "id": "",
     "n": "30"
    }
   },
   "outputs": [
    {
     "data": {
      "text/html": [
       "<div>\n",
       "<style scoped>\n",
       "    .dataframe tbody tr th:only-of-type {\n",
       "        vertical-align: middle;\n",
       "    }\n",
       "\n",
       "    .dataframe tbody tr th {\n",
       "        vertical-align: top;\n",
       "    }\n",
       "\n",
       "    .dataframe thead th {\n",
       "        text-align: right;\n",
       "    }\n",
       "</style>\n",
       "<table border=\"1\" class=\"dataframe\">\n",
       "  <thead>\n",
       "    <tr style=\"text-align: right;\">\n",
       "      <th></th>\n",
       "      <th>Product code</th>\n",
       "      <th>Bureau of Meteorology station number</th>\n",
       "      <th>Year</th>\n",
       "      <th>Month</th>\n",
       "      <th>Day</th>\n",
       "      <th>Rainfall amount (millimetres)</th>\n",
       "      <th>Period over which rainfall was measured (days)</th>\n",
       "      <th>Quality</th>\n",
       "    </tr>\n",
       "  </thead>\n",
       "  <tbody>\n",
       "    <tr>\n",
       "      <th>244</th>\n",
       "      <td>IDCJAC0009</td>\n",
       "      <td>86074</td>\n",
       "      <td>1936</td>\n",
       "      <td>9</td>\n",
       "      <td>1</td>\n",
       "      <td>0.0</td>\n",
       "      <td>NaN</td>\n",
       "      <td>Y</td>\n",
       "    </tr>\n",
       "    <tr>\n",
       "      <th>245</th>\n",
       "      <td>IDCJAC0009</td>\n",
       "      <td>86074</td>\n",
       "      <td>1936</td>\n",
       "      <td>9</td>\n",
       "      <td>2</td>\n",
       "      <td>0.0</td>\n",
       "      <td>NaN</td>\n",
       "      <td>Y</td>\n",
       "    </tr>\n",
       "    <tr>\n",
       "      <th>246</th>\n",
       "      <td>IDCJAC0009</td>\n",
       "      <td>86074</td>\n",
       "      <td>1936</td>\n",
       "      <td>9</td>\n",
       "      <td>3</td>\n",
       "      <td>3.0</td>\n",
       "      <td>1.0</td>\n",
       "      <td>Y</td>\n",
       "    </tr>\n",
       "    <tr>\n",
       "      <th>247</th>\n",
       "      <td>IDCJAC0009</td>\n",
       "      <td>86074</td>\n",
       "      <td>1936</td>\n",
       "      <td>9</td>\n",
       "      <td>4</td>\n",
       "      <td>0.0</td>\n",
       "      <td>NaN</td>\n",
       "      <td>Y</td>\n",
       "    </tr>\n",
       "    <tr>\n",
       "      <th>248</th>\n",
       "      <td>IDCJAC0009</td>\n",
       "      <td>86074</td>\n",
       "      <td>1936</td>\n",
       "      <td>9</td>\n",
       "      <td>5</td>\n",
       "      <td>0.0</td>\n",
       "      <td>NaN</td>\n",
       "      <td>Y</td>\n",
       "    </tr>\n",
       "  </tbody>\n",
       "</table>\n",
       "</div>"
      ],
      "text/plain": [
       "    Product code  Bureau of Meteorology station number  Year  Month  Day  \\\n",
       "244   IDCJAC0009                                 86074  1936      9    1   \n",
       "245   IDCJAC0009                                 86074  1936      9    2   \n",
       "246   IDCJAC0009                                 86074  1936      9    3   \n",
       "247   IDCJAC0009                                 86074  1936      9    4   \n",
       "248   IDCJAC0009                                 86074  1936      9    5   \n",
       "\n",
       "     Rainfall amount (millimetres)  \\\n",
       "244                            0.0   \n",
       "245                            0.0   \n",
       "246                            3.0   \n",
       "247                            0.0   \n",
       "248                            0.0   \n",
       "\n",
       "     Period over which rainfall was measured (days) Quality  \n",
       "244                                             NaN       Y  \n",
       "245                                             NaN       Y  \n",
       "246                                             1.0       Y  \n",
       "247                                             NaN       Y  \n",
       "248                                             NaN       Y  "
      ]
     },
     "execution_count": 30,
     "metadata": {},
     "output_type": "execute_result"
    }
   ],
   "source": [
    "mitcham[:5]"
   ]
  },
  {
   "cell_type": "markdown",
   "metadata": {},
   "source": [
    "Here is a random sample of 10 rows:"
   ]
  },
  {
   "cell_type": "code",
   "execution_count": 31,
   "metadata": {
    "attributes": {
     "classes": [],
     "id": "",
     "n": "31"
    }
   },
   "outputs": [
    {
     "data": {
      "text/html": [
       "<div>\n",
       "<style scoped>\n",
       "    .dataframe tbody tr th:only-of-type {\n",
       "        vertical-align: middle;\n",
       "    }\n",
       "\n",
       "    .dataframe tbody tr th {\n",
       "        vertical-align: top;\n",
       "    }\n",
       "\n",
       "    .dataframe thead th {\n",
       "        text-align: right;\n",
       "    }\n",
       "</style>\n",
       "<table border=\"1\" class=\"dataframe\">\n",
       "  <thead>\n",
       "    <tr style=\"text-align: right;\">\n",
       "      <th></th>\n",
       "      <th>Product code</th>\n",
       "      <th>Bureau of Meteorology station number</th>\n",
       "      <th>Year</th>\n",
       "      <th>Month</th>\n",
       "      <th>Day</th>\n",
       "      <th>Rainfall amount (millimetres)</th>\n",
       "      <th>Period over which rainfall was measured (days)</th>\n",
       "      <th>Quality</th>\n",
       "    </tr>\n",
       "  </thead>\n",
       "  <tbody>\n",
       "    <tr>\n",
       "      <th>23488</th>\n",
       "      <td>IDCJAC0009</td>\n",
       "      <td>86074</td>\n",
       "      <td>2000</td>\n",
       "      <td>4</td>\n",
       "      <td>22</td>\n",
       "      <td>6.6</td>\n",
       "      <td>1.0</td>\n",
       "      <td>Y</td>\n",
       "    </tr>\n",
       "    <tr>\n",
       "      <th>24862</th>\n",
       "      <td>IDCJAC0009</td>\n",
       "      <td>86074</td>\n",
       "      <td>2004</td>\n",
       "      <td>1</td>\n",
       "      <td>26</td>\n",
       "      <td>0.0</td>\n",
       "      <td>NaN</td>\n",
       "      <td>Y</td>\n",
       "    </tr>\n",
       "    <tr>\n",
       "      <th>25628</th>\n",
       "      <td>IDCJAC0009</td>\n",
       "      <td>86074</td>\n",
       "      <td>2006</td>\n",
       "      <td>3</td>\n",
       "      <td>2</td>\n",
       "      <td>0.0</td>\n",
       "      <td>NaN</td>\n",
       "      <td>Y</td>\n",
       "    </tr>\n",
       "    <tr>\n",
       "      <th>16134</th>\n",
       "      <td>IDCJAC0009</td>\n",
       "      <td>86074</td>\n",
       "      <td>1980</td>\n",
       "      <td>3</td>\n",
       "      <td>4</td>\n",
       "      <td>0.0</td>\n",
       "      <td>NaN</td>\n",
       "      <td>Y</td>\n",
       "    </tr>\n",
       "    <tr>\n",
       "      <th>4879</th>\n",
       "      <td>IDCJAC0009</td>\n",
       "      <td>86074</td>\n",
       "      <td>1949</td>\n",
       "      <td>5</td>\n",
       "      <td>11</td>\n",
       "      <td>0.5</td>\n",
       "      <td>1.0</td>\n",
       "      <td>Y</td>\n",
       "    </tr>\n",
       "    <tr>\n",
       "      <th>5592</th>\n",
       "      <td>IDCJAC0009</td>\n",
       "      <td>86074</td>\n",
       "      <td>1951</td>\n",
       "      <td>4</td>\n",
       "      <td>24</td>\n",
       "      <td>0.0</td>\n",
       "      <td>NaN</td>\n",
       "      <td>Y</td>\n",
       "    </tr>\n",
       "    <tr>\n",
       "      <th>6856</th>\n",
       "      <td>IDCJAC0009</td>\n",
       "      <td>86074</td>\n",
       "      <td>1954</td>\n",
       "      <td>10</td>\n",
       "      <td>9</td>\n",
       "      <td>1.5</td>\n",
       "      <td>1.0</td>\n",
       "      <td>Y</td>\n",
       "    </tr>\n",
       "    <tr>\n",
       "      <th>26112</th>\n",
       "      <td>IDCJAC0009</td>\n",
       "      <td>86074</td>\n",
       "      <td>2007</td>\n",
       "      <td>6</td>\n",
       "      <td>29</td>\n",
       "      <td>0.4</td>\n",
       "      <td>1.0</td>\n",
       "      <td>Y</td>\n",
       "    </tr>\n",
       "    <tr>\n",
       "      <th>24375</th>\n",
       "      <td>IDCJAC0009</td>\n",
       "      <td>86074</td>\n",
       "      <td>2002</td>\n",
       "      <td>9</td>\n",
       "      <td>26</td>\n",
       "      <td>0.0</td>\n",
       "      <td>NaN</td>\n",
       "      <td>Y</td>\n",
       "    </tr>\n",
       "    <tr>\n",
       "      <th>15475</th>\n",
       "      <td>IDCJAC0009</td>\n",
       "      <td>86074</td>\n",
       "      <td>1978</td>\n",
       "      <td>5</td>\n",
       "      <td>15</td>\n",
       "      <td>0.0</td>\n",
       "      <td>NaN</td>\n",
       "      <td>Y</td>\n",
       "    </tr>\n",
       "  </tbody>\n",
       "</table>\n",
       "</div>"
      ],
      "text/plain": [
       "      Product code  Bureau of Meteorology station number  Year  Month  Day  \\\n",
       "23488   IDCJAC0009                                 86074  2000      4   22   \n",
       "24862   IDCJAC0009                                 86074  2004      1   26   \n",
       "25628   IDCJAC0009                                 86074  2006      3    2   \n",
       "16134   IDCJAC0009                                 86074  1980      3    4   \n",
       "4879    IDCJAC0009                                 86074  1949      5   11   \n",
       "5592    IDCJAC0009                                 86074  1951      4   24   \n",
       "6856    IDCJAC0009                                 86074  1954     10    9   \n",
       "26112   IDCJAC0009                                 86074  2007      6   29   \n",
       "24375   IDCJAC0009                                 86074  2002      9   26   \n",
       "15475   IDCJAC0009                                 86074  1978      5   15   \n",
       "\n",
       "       Rainfall amount (millimetres)  \\\n",
       "23488                            6.6   \n",
       "24862                            0.0   \n",
       "25628                            0.0   \n",
       "16134                            0.0   \n",
       "4879                             0.5   \n",
       "5592                             0.0   \n",
       "6856                             1.5   \n",
       "26112                            0.4   \n",
       "24375                            0.0   \n",
       "15475                            0.0   \n",
       "\n",
       "       Period over which rainfall was measured (days) Quality  \n",
       "23488                                             1.0       Y  \n",
       "24862                                             NaN       Y  \n",
       "25628                                             NaN       Y  \n",
       "16134                                             NaN       Y  \n",
       "4879                                              1.0       Y  \n",
       "5592                                              NaN       Y  \n",
       "6856                                              1.0       Y  \n",
       "26112                                             1.0       Y  \n",
       "24375                                             NaN       Y  \n",
       "15475                                             NaN       Y  "
      ]
     },
     "execution_count": 31,
     "metadata": {},
     "output_type": "execute_result"
    }
   ],
   "source": [
    "mitcham.sample(10)"
   ]
  },
  {
   "cell_type": "markdown",
   "metadata": {},
   "source": [
    "Let's pull out the rainfall column only:"
   ]
  },
  {
   "cell_type": "code",
   "execution_count": 32,
   "metadata": {
    "attributes": {
     "classes": [],
     "id": "",
     "n": "32"
    }
   },
   "outputs": [],
   "source": [
    "rain = mitcham['Rainfall amount (millimetres)']"
   ]
  },
  {
   "cell_type": "markdown",
   "metadata": {},
   "source": [
    "### Histogram of rainfall\n",
    "\n",
    "We can get some insight into the distribution of daily rainfall values by\n",
    "plotting a histogram of them like this:"
   ]
  },
  {
   "cell_type": "code",
   "execution_count": 33,
   "metadata": {
    "attributes": {
     "classes": [],
     "id": "",
     "n": "33"
    }
   },
   "outputs": [
    {
     "data": {
      "text/plain": [
       "<matplotlib.axes._subplots.AxesSubplot at 0x11d077518>"
      ]
     },
     "execution_count": 33,
     "metadata": {},
     "output_type": "execute_result"
    },
    {
     "data": {
      "image/png": "[encoded data removed]",
      "text/plain": [
       "<Figure size 1440x720 with 1 Axes>"
      ]
     },
     "metadata": {
      "image/png": {
       "height": 576,
       "width": 1171
      }
     },
     "output_type": "display_data"
    }
   ],
   "source": [
    "rain.hist(bins=30)"
   ]
  },
  {
   "cell_type": "markdown",
   "metadata": {},
   "source": [
    "We can see that the daily rainfall is definitely not normally distributed.\n",
    "\n",
    "### Question: What was the average rainfall across all recorded data?"
   ]
  },
  {
   "cell_type": "code",
   "execution_count": 34,
   "metadata": {
    "attributes": {
     "classes": [],
     "id": "",
     "n": "34"
    }
   },
   "outputs": [
    {
     "data": {
      "text/plain": [
       "2.3594297717019286"
      ]
     },
     "execution_count": 34,
     "metadata": {},
     "output_type": "execute_result"
    }
   ],
   "source": [
    "rain.mean()"
   ]
  },
  {
   "cell_type": "markdown",
   "metadata": {},
   "source": [
    "### Example: 95% confidence intervals for the mean\n",
    "\n",
    "We can use the following Python package to construct these confidence intervals\n",
    "for us automatically:\n",
    "!pip install scikits.bootstrap"
   ]
  },
  {
   "cell_type": "code",
   "execution_count": 35,
   "metadata": {
    "attributes": {
     "classes": [],
     "id": "",
     "n": "35"
    }
   },
   "outputs": [],
   "source": [
    "from scikits.bootstrap import ci  # ci = confidence intervals"
   ]
  },
  {
   "cell_type": "code",
   "execution_count": 36,
   "metadata": {
    "attributes": {
     "classes": [],
     "id": "",
     "n": "36"
    }
   },
   "outputs": [
    {
     "data": {
      "text/plain": [
       "244     0.0\n",
       "245     0.0\n",
       "246     3.0\n",
       "247     0.0\n",
       "248     0.0\n",
       "249     0.0\n",
       "250     0.0\n",
       "251    11.4\n",
       "252     3.3\n",
       "253     2.3\n",
       "Name: Rainfall amount (millimetres), dtype: float64"
      ]
     },
     "execution_count": 36,
     "metadata": {},
     "output_type": "execute_result"
    }
   ],
   "source": [
    "rain[:10]"
   ]
  },
  {
   "cell_type": "code",
   "execution_count": 37,
   "metadata": {
    "attributes": {
     "classes": [],
     "id": "",
     "n": "37"
    }
   },
   "outputs": [
    {
     "data": {
      "text/plain": [
       "array([2.2968665 , 2.42947213])"
      ]
     },
     "execution_count": 37,
     "metadata": {},
     "output_type": "execute_result"
    }
   ],
   "source": [
    "ci(rain, alpha=0.05, n_samples=1000)"
   ]
  },
  {
   "cell_type": "markdown",
   "metadata": {},
   "source": [
    "So our 95% confidence interval for the average amount of rainfall per day is between 2.29 mm and 2.43 mm.\n",
    "\n",
    "## Interpreting confidence intervals\n",
    "\n",
    "So what does the above statement mean?\n",
    "\n",
    "If we collected daily rainfall data for a million days, with no climate\n",
    "change, and found the daily average, and then did this 99 more times,\n",
    "we would expect the average daily rainfall to be between 2.29 mm and 2.43\n",
    "mm about 95 of those times.\n",
    "\n",
    "This is the frequentist definition of confidence intervals: the long-term\n",
    "average falls within this interval with high confidence.\n",
    "\n",
    "Does this mean that the next 10 days can't all have more than 5 mm of rain? **Of\n",
    "course not.**\n",
    "\n",
    "Be careful: such an interpretation of confidence intervals is tempting, and\n",
    "common, and **wrong**.\n",
    "\n",
    "(There is another perspective on how to express uncertainty, called the\n",
    "**Bayesian** perspective. This provides \"credible intervals\", which are\n",
    "associated with a \"prior\" degree of belief about the weather as well as the\n",
    "data. These are easier to interpret but more mathematically demanding to\n",
    "construct. We won't go into Bayesian statistics in this course.)\n",
    "\n",
    "## Analysing extreme events\n",
    "\n",
    "The mean is rather boring. The bootstrap allows us to find the distribution of\n",
    "**almost any statistic** on our data, including those that would be difficult\n",
    "or impossible to compute with classical statistical methods, like the median\n",
    "or maximum or probabilities of rare events.\n",
    "\n",
    "### Example: distribution of the wettest day each year\n",
    "\n",
    "First, we can find the wettest day on record in the sample like this:"
   ]
  },
  {
   "cell_type": "code",
   "execution_count": 38,
   "metadata": {
    "attributes": {
     "classes": [],
     "id": "",
     "n": "38"
    }
   },
   "outputs": [
    {
     "data": {
      "text/plain": [
       "124.7"
      ]
     },
     "execution_count": 38,
     "metadata": {},
     "output_type": "execute_result"
    }
   ],
   "source": [
    "rain.max()"
   ]
  },
  {
   "cell_type": "markdown",
   "metadata": {},
   "source": [
    "So there was one day when Mitcham recorded over 124 mm of rain. When was this?\n",
    "We look up the row index first:"
   ]
  },
  {
   "cell_type": "code",
   "execution_count": 39,
   "metadata": {
    "attributes": {
     "classes": [],
     "id": "",
     "n": "39"
    }
   },
   "outputs": [
    {
     "data": {
      "text/plain": [
       "9890"
      ]
     },
     "execution_count": 39,
     "metadata": {},
     "output_type": "execute_result"
    }
   ],
   "source": [
    "rain.idxmax()"
   ]
  },
  {
   "cell_type": "markdown",
   "metadata": {},
   "source": [
    "and now extract the row from the original data with that index:"
   ]
  },
  {
   "cell_type": "code",
   "execution_count": 40,
   "metadata": {
    "attributes": {
     "classes": [],
     "id": "",
     "n": "40"
    }
   },
   "outputs": [
    {
     "data": {
      "text/plain": [
       "Product code                                      IDCJAC0009\n",
       "Bureau of Meteorology station number                   86074\n",
       "Year                                                    1963\n",
       "Month                                                      1\n",
       "Day                                                       29\n",
       "Rainfall amount (millimetres)                          124.7\n",
       "Period over which rainfall was measured (days)             1\n",
       "Quality                                                    Y\n",
       "Name: 9890, dtype: object"
      ]
     },
     "execution_count": 40,
     "metadata": {},
     "output_type": "execute_result"
    }
   ],
   "source": [
    "mitcham.loc[rain.idxmax()]"
   ]
  },
  {
   "cell_type": "markdown",
   "metadata": {},
   "source": [
    "We can also find the amount of rain on the wettest day each year like this:"
   ]
  },
  {
   "cell_type": "code",
   "execution_count": 41,
   "metadata": {
    "attributes": {
     "classes": [],
     "id": "",
     "n": "41"
    }
   },
   "outputs": [
    {
     "data": {
      "text/plain": [
       "Year\n",
       "1996    40.2\n",
       "1997    37.0\n",
       "1998    55.2\n",
       "1999    45.6\n",
       "2000    32.0\n",
       "2001    42.2\n",
       "2002    29.4\n",
       "2003    78.4\n",
       "2004    42.2\n",
       "2005    53.6\n",
       "2006    23.0\n",
       "2007    40.0\n",
       "2008    41.6\n",
       "2009    47.0\n",
       "2010    66.0\n",
       "2011    93.4\n",
       "2012    66.8\n",
       "2013    82.4\n",
       "2014    41.0\n",
       "2015    41.0\n",
       "2016    45.2\n",
       "2017    40.4\n",
       "Name: Rainfall amount (millimetres), dtype: float64"
      ]
     },
     "execution_count": 41,
     "metadata": {},
     "output_type": "execute_result"
    }
   ],
   "source": [
    "wettest_day_each_year = mitcham.groupby('Year')['Rainfall amount (millimetres)'].max()\n",
    "wettest_day_each_year.loc[1996:]"
   ]
  },
  {
   "cell_type": "markdown",
   "metadata": {},
   "source": [
    "Here is a histogram of the amount of rainfall of the wettest day each year (from\n",
    "1936 to 2017):"
   ]
  },
  {
   "cell_type": "code",
   "execution_count": 42,
   "metadata": {
    "attributes": {
     "classes": [],
     "id": "",
     "n": "42"
    }
   },
   "outputs": [
    {
     "data": {
      "text/plain": [
       "<matplotlib.axes._subplots.AxesSubplot at 0x11dd659b0>"
      ]
     },
     "execution_count": 42,
     "metadata": {},
     "output_type": "execute_result"
    },
    {
     "data": {
      "image/png": "[encoded data removed]",
      "text/plain": [
       "<Figure size 1440x720 with 1 Axes>"
      ]
     },
     "metadata": {
      "image/png": {
       "height": 576,
       "width": 1151
      }
     },
     "output_type": "display_data"
    }
   ],
   "source": [
    "wettest_day_each_year.hist(bins=30)"
   ]
  },
  {
   "cell_type": "markdown",
   "metadata": {},
   "source": [
    "### Example: extreme weather probabilities\n",
    "\n",
    "We can also use the bootstrap to estimate confidence about probabilities of\n",
    "events. Consider this question: **What is the probability that next year has a\n",
    "day with more 60 mm of rain?**\n",
    "\n",
    "First, what is the frequency of this event in the data?"
   ]
  },
  {
   "cell_type": "code",
   "execution_count": 43,
   "metadata": {
    "attributes": {
     "classes": [],
     "id": "",
     "n": "43"
    }
   },
   "outputs": [
    {
     "data": {
      "text/plain": [
       "0.0008264178230777177"
      ]
     },
     "execution_count": 43,
     "metadata": {},
     "output_type": "execute_result"
    }
   ],
   "source": [
    "(rain > 60).mean()"
   ]
  },
  {
   "cell_type": "markdown",
   "metadata": {},
   "source": [
    "So 0.083% of days in Mitcham have had such extreme rainfall since 1936.\n",
    "\n",
    "### Exercise: find how many years have had a day wetter than 60 mm\n",
    "\n",
    "**Hint:** Use the `wettest_day_each_year` data"
   ]
  },
  {
   "cell_type": "code",
   "execution_count": 44,
   "metadata": {
    "attributes": {
     "classes": [],
     "id": "",
     "n": "44"
    }
   },
   "outputs": [
    {
     "data": {
      "text/plain": [
       "22"
      ]
     },
     "execution_count": 44,
     "metadata": {},
     "output_type": "execute_result"
    }
   ],
   "source": [
    "# %load solutions/how_many_years_wetter_than_60mm.ipy\n",
    "(wettest_day_each_year > 60).sum()"
   ]
  },
  {
   "cell_type": "markdown",
   "metadata": {},
   "source": [
    "### Exercise: uncertainty\n",
    "\n",
    "The above was our empirical estimate.\n",
    "\n",
    "In this exercise, we determine what uncertainty would we associate with that\n",
    "estimate."
   ]
  },
  {
   "cell_type": "code",
   "execution_count": 45,
   "metadata": {
    "attributes": {
     "classes": [],
     "id": "",
     "n": "45"
    }
   },
   "outputs": [],
   "source": [
    "# First define a function that calculates the quantity\n",
    "# of interest on the resampled data:\n",
    "\n",
    "import numpy as np\n",
    "\n",
    "def more_than_60_mm(rainfall):\n",
    "    return (rainfall > 60).mean()"
   ]
  },
  {
   "cell_type": "markdown",
   "metadata": {},
   "source": [
    "Now apply the ci() function to estimate the probability that next year has a day\n",
    "with more 60 mm of rain."
   ]
  },
  {
   "cell_type": "code",
   "execution_count": 46,
   "metadata": {
    "attributes": {
     "classes": [],
     "id": "",
     "n": "46"
    }
   },
   "outputs": [],
   "source": [
    "# %load solutions/wettest_day_uncertainty.ipy"
   ]
  }
 ],
 "metadata": {},
 "nbformat": 4,
 "nbformat_minor": 2
}
