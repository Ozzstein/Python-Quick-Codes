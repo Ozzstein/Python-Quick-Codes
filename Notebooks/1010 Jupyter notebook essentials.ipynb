{
 "cells": [
  {
   "cell_type": "markdown",
   "metadata": {},
   "source": [
    "# Jupyter notebook essentials\n",
    "\n",
    "Jupyter is two things:\n",
    "\n",
    "1. an interactive environment for writing and running code\n",
    "2. an automated reporting tool\n",
    "\n",
    "## Creating automated reports with Jupyter\n",
    "\n",
    "Jupyter rapidly becoming a standard across many industries for producing automated reports called \"notebooks\" in a variety of common formats (such as HTML, Markdown, PDF). Microsoft Azure, for example, now hosts Jupyter notebooks: https://notebooks.azure.com/.\n",
    "\n",
    "What is distinctive about reports produced in Jupyter is that they can include **code**. Originally designed for Python, Jupyter now supports about 30 different programming languages, including Python, R, SAS, Julia, JavaScript, C#, and PowerShell. Jupyter notebooks can be created once and run many times, perhaps once every 24 hours or as new datasets come in. In this sense they are \"automatic reports\".\n",
    "\n",
    "As a historical note, Jupyter was originally designed to improve the reproducibility of scientific publishing, by making the code visible that is essential to an experiment. Jupyter itself is also open source and cross-platform.\n",
    "\n",
    "## Code and output\n",
    "\n",
    "The major feature of using Jupyter notebooks for reports is **inline code** and its output. This makes a notebook dynamic; you can update the report automatically and it can pull in new data (e.g. from files or the internet) and produce new results.\n",
    "\n",
    "Here are some examples:"
   ]
  },
  {
   "cell_type": "code",
   "execution_count": 10,
   "metadata": {
    "attributes": {
     "classes": [],
     "id": "",
     "n": "10"
    }
   },
   "outputs": [
    {
     "data": {
      "text/plain": [
       "3"
      ]
     },
     "execution_count": 10,
     "metadata": {},
     "output_type": "execute_result"
    }
   ],
   "source": [
    "1+2"
   ]
  },
  {
   "cell_type": "code",
   "execution_count": 11,
   "metadata": {
    "attributes": {
     "classes": [],
     "id": "",
     "n": "11"
    }
   },
   "outputs": [
    {
     "data": {
      "text/plain": [
       "'Bill'"
      ]
     },
     "execution_count": 11,
     "metadata": {},
     "output_type": "execute_result"
    }
   ],
   "source": [
    "names = ['Fred', 'Alice', 'Wen', 'Sally', 'Bill']\n",
    "\n",
    "import random\n",
    "random.choice(names)"
   ]
  },
  {
   "cell_type": "markdown",
   "metadata": {},
   "source": [
    "The name will be chosen at random each time you run the report by executing the notebook.\n",
    "\n",
    "\n",
    "\n",
    "## Running code cells\n",
    "\n",
    "Run a code cell using `Shift-Enter` or pressing the \"Play\" button in the toolbar at the top:"
   ]
  },
  {
   "cell_type": "code",
   "execution_count": 1,
   "metadata": {
    "attributes": {
     "classes": [],
     "id": "",
     "n": "1"
    }
   },
   "outputs": [],
   "source": [
    "a = 10"
   ]
  },
  {
   "cell_type": "code",
   "execution_count": 2,
   "metadata": {
    "attributes": {
     "classes": [],
     "id": "",
     "n": "2"
    }
   },
   "outputs": [
    {
     "name": "stdout",
     "output_type": "stream",
     "text": [
      "20\n"
     ]
    }
   ],
   "source": [
    "print(a * 2)"
   ]
  },
  {
   "cell_type": "markdown",
   "metadata": {},
   "source": [
    "You can run a cell in-place using `Control-Enter`. Try running this several times:"
   ]
  },
  {
   "cell_type": "code",
   "execution_count": 9,
   "metadata": {
    "attributes": {
     "classes": [],
     "id": "",
     "n": "9"
    }
   },
   "outputs": [
    {
     "name": "stdout",
     "output_type": "stream",
     "text": [
      "16\n"
     ]
    }
   ],
   "source": [
    "a += 1\n",
    "print(a)"
   ]
  },
  {
   "cell_type": "markdown",
   "metadata": {},
   "source": [
    "Lines with an exclamation mark run a system command (Windows / Unix):"
   ]
  },
  {
   "cell_type": "code",
   "execution_count": 10,
   "metadata": {
    "attributes": {
     "classes": [],
     "id": "",
     "n": "10"
    }
   },
   "outputs": [
    {
     "name": "stdout",
     "output_type": "stream",
     "text": [
      "1010 Jupyter notebook essentials.ipynb\r\n"
     ]
    }
   ],
   "source": [
    "# Windows:\n",
    "!dir 10*.ipynb"
   ]
  },
  {
   "cell_type": "code",
   "execution_count": 10,
   "metadata": {
    "attributes": {
     "classes": [],
     "id": "",
     "n": "10"
    }
   },
   "outputs": [
    {
     "name": "stdout",
     "output_type": "stream",
     "text": [
      "1010 Jupyter notebook essentials.ipynb\r\n"
     ]
    }
   ],
   "source": [
    "# Unix:\n",
    "!ls *.ipynb | tail -n5"
   ]
  },
  {
   "cell_type": "markdown",
   "metadata": {},
   "source": [
    "## Markdown cells support rich text, equations, images etc. ",
    "\n",
    "You can change a cell's type from Code to Markdown using the dropdown menu in the toolbar.\n",
    "\n",
    "Markdown cells support the following content types:\n",
    "\n",
    "- multiple levels of headings\n",
    "- formatted text: **bold**, *italic*, coloured, etc.\n",
    "- bullets\n",
    "- numbering:\n",
    "  1. one\n",
    "  2. two\n",
    "- embedded HTML, including [links](https://en.wikipedia.org/wiki/Hyperlink), tables, images, videos, ...\n",
    "- verbatim output (e.g. for code or data snippets)\n",
    "- equations\n",
    "- images: PNG, TIFF, SVG, ...\n",
    "- static plots\n",
    "- interactive JavaScript-based visualisations\n",
    "\n",
    "### Exercise\n",
    "Try reproducing these features:"
   ]
  },
  {
   "cell_type": "code",
   "execution_count": null,
   "metadata": {},
   "outputs": [],
   "source": [
    "- bullet\n",
    "- another bullet\n",
    "\n",
    "1. item 1\n",
    "2. item 2\n",
    "\n",
    "Formatted text: **bold**, *italic*"
   ]
  },
  {
   "cell_type": "markdown",
   "metadata": {},
   "source": [
    "Ensure the cell's type is Markdown and run the cell.\n",
    "\n",
    "We will come back to other content types shortly.\n",
    "\n",
    "## Keyboard shortcuts\n",
    "\n",
    "* `Shift-Enter` to run a cell\n",
    "* `Ctrl-Enter` to run a cell in place\n",
    "* `Alt-Enter` to run a cell and insert a new cell below\n",
    "* `Escape` to enter command mode\n",
    "* `Enter` to enter edit mode\n",
    "\n",
    "Some keyboard shortcuts are valid only in command mode:\n",
    "\n",
    "* `A` to insert a cell above\n",
    "* `B` to insert a cell below\n",
    "* `X` to cut a cell\n",
    "* `V` to paste a cell\n",
    "* `H` for help on keyboard shortcuts\n",
    "* `M` to Markdown\n",
    "* `Y` to Code\n",
    "* `1,2,...,6` to heading level 1, 2, ..., 6\n",
    "* `Shift-M` merge with cell below\n",
    "* `O` toggle output (good to collapse long output)\n",
    "\n",
    "Other keyboard shortcuts are valid in edit mode. See the help by pressing `Escape` and `H`.\n",
    "\n",
    "### Exercise\n",
    "\n",
    "Try out the shortcuts listed here and look at the help for the others. Try out keyboard shortcuts for:\n",
    "\n",
    "* Inserting cells above/below\n",
    "* Delete cell\n",
    "* Move cell up/down\n",
    "* Cut/copy/paste cell\n",
    "* Changing cell types\n",
    "\n",
    "## More content types\n",
    "\n",
    "### Equations\n",
    "\n",
    "Jupyter supports equations in LaTeX format using \\$ delimiters. Try this:"
   ]
  },
  {
   "cell_type": "code",
   "execution_count": null,
   "metadata": {},
   "outputs": [],
   "source": [
    "$\\int_-\\infty^\\infty f(x) dx = 1$"
   ]
  },
  {
   "cell_type": "markdown",
   "metadata": {},
   "source": [
    "For more help on LaTeX, see various cheat sheets online, such as this: [https://kapeli.com/cheat_sheets/LaTeX_Math_Symbols.docset/Contents/Resources/Documents/index](https://kapeli.com/cheat_sheets/LaTeX_Math_Symbols.docset/Contents/Resources/Documents/index)\n",
    "\n",
    "### Images\n",
    "\n",
    "You can embed images like this:"
   ]
  },
  {
   "cell_type": "code",
   "execution_count": null,
   "metadata": {},
   "outputs": [],
   "source": [
    "    <img src=\"http://...\">"
   ]
  },
  {
   "cell_type": "markdown",
   "metadata": {},
   "source": [
    "Example:\n",
    "<img src=\"https://github.com/jupyter/jupyter/raw/master/docs/source/_static/_images/jupyter.png\" width=\"200\">\n",
    "\n",
    "### Plots\n",
    "\n",
    "You can create plots using a variety of packages with e.g. Python or R. Here is an example with Python:"
   ]
  },
  {
   "cell_type": "code",
   "execution_count": 1,
   "metadata": {
    "attributes": {
     "classes": [],
     "id": "",
     "n": "1"
    }
   },
   "outputs": [],
   "source": [
    "# Set up inline plots in the notebook\n",
    "import matplotlib.pyplot as plt\n",
    "%matplotlib inline"
   ]
  },
  {
   "cell_type": "code",
   "execution_count": 2,
   "metadata": {
    "attributes": {
     "classes": [],
     "id": "",
     "n": "2"
    }
   },
   "outputs": [
    {
     "data": {
      "text/plain": [
       "[<matplotlib.lines.Line2D at 0x11521f400>]"
      ]
     },
     "execution_count": 2,
     "metadata": {},
     "output_type": "execute_result"
    },
    {
     "data": {
      "image/png": "[encoded data removed]",
      "text/plain": [
       "<matplotlib.figure.Figure at 0x1131020f0>"
      ]
     },
     "metadata": {},
     "output_type": "display_data"
    }
   ],
   "source": [
    "plt.plot(range(10), marker='o', linestyle='--')"
   ]
  },
  {
   "cell_type": "markdown",
   "metadata": {},
   "source": [
    "We may like the plots to be larger and high-resolution by default. This code does that:"
   ]
  },
  {
   "cell_type": "code",
   "execution_count": 3,
   "metadata": {
    "attributes": {
     "classes": [],
     "id": "",
     "n": "3"
    }
   },
   "outputs": [],
   "source": [
    "%config InlineBackend.figure_format = 'retina'\n",
    "import matplotlib\n",
    "matplotlib.rcParams['figure.figsize'] = (20.0, 10.0)"
   ]
  },
  {
   "cell_type": "markdown",
   "metadata": {},
   "source": [
    "Now the same plot command produces this:"
   ]
  },
  {
   "cell_type": "code",
   "execution_count": 4,
   "metadata": {
    "attributes": {
     "classes": [],
     "id": "",
     "n": "4"
    }
   },
   "outputs": [
    {
     "data": {
      "text/plain": [
       "[<matplotlib.lines.Line2D at 0x1153480b8>]"
      ]
     },
     "execution_count": 4,
     "metadata": {},
     "output_type": "execute_result"
    },
    {
     "data": {
      "image/png": "[encoded data removed]",
      "text/plain": [
       "<matplotlib.figure.Figure at 0x115253cf8>"
      ]
     },
     "metadata": {
      "image/png": {
       "height": 576,
       "width": 1145
      }
     },
     "output_type": "display_data"
    }
   ],
   "source": [
    "plt.plot(range(10), marker='o', linestyle='--')"
   ]
  },
  {
   "cell_type": "markdown",
   "metadata": {},
   "source": [
    "### Formatting\n",
    "\n",
    "Jupyter understands Markdown formatting, which is described more here: https://github.com/adam-p/markdown-here/wiki/Markdown-Cheatsheet\n",
    "\n",
    "For example, to enter bold text or italics, use double or single asterisks like this:\n",
    "\n",
    "- `**text here**` produces **text here**\n",
    "- `*text here*` produces *text here*\n",
    "\n",
    "To type a horizontal rule, use three dashes: `---`, which produces this:\n",
    "\n",
    "---\n",
    "\n",
    "\n",
    "## Equations\n",
    "\n",
    "You can easily include equations in your report by using LaTeX expressions with `$` signs around them (inline) or `$$` signs around them (displayed on its own paragraph). For example:"
   ]
  },
  {
   "cell_type": "code",
   "execution_count": null,
   "metadata": {},
   "outputs": [],
   "source": [
    "$y = ax^2 + bx + c \\sin(x)$"
   ]
  },
  {
   "cell_type": "markdown",
   "metadata": {},
   "source": [
    "gives $y = ax^2 + bx + c \\sin(x)$.\n",
    "\n",
    "Another example:"
   ]
  },
  {
   "cell_type": "code",
   "execution_count": null,
   "metadata": {},
   "outputs": [],
   "source": [
    "$$\\int_0^\\infty f(x) dx = 1$$"
   ]
  },
  {
   "cell_type": "markdown",
   "metadata": {},
   "source": [
    "gives this:\n",
    "\n",
    "$$\\int_0^\\infty f(x) dx = 1$$\n",
    "\n",
    "## Tables\n",
    "\n",
    "Python uses \"DataFrames\" (indexed 2d tables) from the Pandas library for tabular data: http://pandas.pydata.org/. DataFrames provide nice HTML representations of tabular data with borders:"
   ]
  },
  {
   "cell_type": "code",
   "execution_count": 12,
   "metadata": {
    "attributes": {
     "classes": [],
     "id": "",
     "n": "12"
    }
   },
   "outputs": [
    {
     "data": {
      "text/html": [
       "<div>\n",
       "<table border=\"1\" class=\"dataframe\">\n",
       "  <thead>\n",
       "    <tr style=\"text-align: right;\">\n",
       "      <th></th>\n",
       "      <th>method</th>\n",
       "      <th>number</th>\n",
       "      <th>orbital_period</th>\n",
       "      <th>mass</th>\n",
       "      <th>distance</th>\n",
       "      <th>year</th>\n",
       "    </tr>\n",
       "  </thead>\n",
       "  <tbody>\n",
       "    <tr>\n",
       "      <th>0</th>\n",
       "      <td>Radial Velocity</td>\n",
       "      <td>1</td>\n",
       "      <td>269.300000</td>\n",
       "      <td>7.10</td>\n",
       "      <td>77.40</td>\n",
       "      <td>2006</td>\n",
       "    </tr>\n",
       "    <tr>\n",
       "      <th>1</th>\n",
       "      <td>Radial Velocity</td>\n",
       "      <td>1</td>\n",
       "      <td>874.774000</td>\n",
       "      <td>2.21</td>\n",
       "      <td>56.95</td>\n",
       "      <td>2008</td>\n",
       "    </tr>\n",
       "    <tr>\n",
       "      <th>2</th>\n",
       "      <td>Radial Velocity</td>\n",
       "      <td>1</td>\n",
       "      <td>763.000000</td>\n",
       "      <td>2.60</td>\n",
       "      <td>19.84</td>\n",
       "      <td>2011</td>\n",
       "    </tr>\n",
       "    <tr>\n",
       "      <th>3</th>\n",
       "      <td>Radial Velocity</td>\n",
       "      <td>1</td>\n",
       "      <td>326.030000</td>\n",
       "      <td>19.40</td>\n",
       "      <td>110.62</td>\n",
       "      <td>2007</td>\n",
       "    </tr>\n",
       "    <tr>\n",
       "      <th>4</th>\n",
       "      <td>Radial Velocity</td>\n",
       "      <td>1</td>\n",
       "      <td>516.220000</td>\n",
       "      <td>10.50</td>\n",
       "      <td>119.47</td>\n",
       "      <td>2009</td>\n",
       "    </tr>\n",
       "    <tr>\n",
       "      <th>...</th>\n",
       "      <td>...</td>\n",
       "      <td>...</td>\n",
       "      <td>...</td>\n",
       "      <td>...</td>\n",
       "      <td>...</td>\n",
       "      <td>...</td>\n",
       "    </tr>\n",
       "    <tr>\n",
       "      <th>1030</th>\n",
       "      <td>Transit</td>\n",
       "      <td>1</td>\n",
       "      <td>3.941507</td>\n",
       "      <td>NaN</td>\n",
       "      <td>172.00</td>\n",
       "      <td>2006</td>\n",
       "    </tr>\n",
       "    <tr>\n",
       "      <th>1031</th>\n",
       "      <td>Transit</td>\n",
       "      <td>1</td>\n",
       "      <td>2.615864</td>\n",
       "      <td>NaN</td>\n",
       "      <td>148.00</td>\n",
       "      <td>2007</td>\n",
       "    </tr>\n",
       "    <tr>\n",
       "      <th>1032</th>\n",
       "      <td>Transit</td>\n",
       "      <td>1</td>\n",
       "      <td>3.191524</td>\n",
       "      <td>NaN</td>\n",
       "      <td>174.00</td>\n",
       "      <td>2007</td>\n",
       "    </tr>\n",
       "    <tr>\n",
       "      <th>1033</th>\n",
       "      <td>Transit</td>\n",
       "      <td>1</td>\n",
       "      <td>4.125083</td>\n",
       "      <td>NaN</td>\n",
       "      <td>293.00</td>\n",
       "      <td>2008</td>\n",
       "    </tr>\n",
       "    <tr>\n",
       "      <th>1034</th>\n",
       "      <td>Transit</td>\n",
       "      <td>1</td>\n",
       "      <td>4.187757</td>\n",
       "      <td>NaN</td>\n",
       "      <td>260.00</td>\n",
       "      <td>2008</td>\n",
       "    </tr>\n",
       "  </tbody>\n",
       "</table>\n",
       "<p>1035 rows × 6 columns</p>\n",
       "</div>"
      ],
      "text/plain": [
       "               method  number  orbital_period   mass  distance  year\n",
       "0     Radial Velocity       1      269.300000   7.10     77.40  2006\n",
       "1     Radial Velocity       1      874.774000   2.21     56.95  2008\n",
       "2     Radial Velocity       1      763.000000   2.60     19.84  2011\n",
       "3     Radial Velocity       1      326.030000  19.40    110.62  2007\n",
       "4     Radial Velocity       1      516.220000  10.50    119.47  2009\n",
       "...               ...     ...             ...    ...       ...   ...\n",
       "1030          Transit       1        3.941507    NaN    172.00  2006\n",
       "1031          Transit       1        2.615864    NaN    148.00  2007\n",
       "1032          Transit       1        3.191524    NaN    174.00  2007\n",
       "1033          Transit       1        4.125083    NaN    293.00  2008\n",
       "1034          Transit       1        4.187757    NaN    260.00  2008\n",
       "\n",
       "[1035 rows x 6 columns]"
      ]
     },
     "execution_count": 12,
     "metadata": {},
     "output_type": "execute_result"
    }
   ],
   "source": [
    "sns.load_dataset('planets')"
   ]
  },
  {
   "cell_type": "markdown",
   "metadata": {},
   "source": [
    "## Running reports automatically\n",
    "\n",
    "You can execute a Jupyter notebook automatically and create a report by running this command from the Command Prompt / Terminal or in a batch file (on Windows) or shell script (in Unix):"
   ]
  },
  {
   "cell_type": "code",
   "execution_count": null,
   "metadata": {},
   "outputs": [],
   "source": [
    "jupyter nbconvert \"My report.ipynb\" --to html --execute"
   ]
  },
  {
   "cell_type": "markdown",
   "metadata": {},
   "source": [
    "If you want to run this automatically (say) every 24 hours on a Windows PC, you can use a tool like NSSM to schedule this, downloadable from here: http://nssm.cc/usage\n",
    "\n",
    "### Exercise\n",
    "\n",
    "Try clearing all cells in a notebook (such as this one) by choosing Cell | All Output | Clear.\n",
    "\n",
    "Then save it, and run `jupyter nbconvert` from the command line as described above.\n",
    "\n",
    "Have a look at the resulting `.html` report in your browser.\n",
    "\n",
    "\n",
    "## Keeping your notebooks clean\n",
    "\n",
    "Any bits of code that you don't want to appear in your notebook / report can live in separate script files. You can, for example, include a line to run these at the top of your notebook.\n",
    "\n",
    "Here is an example: you run the following code once:"
   ]
  },
  {
   "cell_type": "code",
   "execution_count": 5,
   "metadata": {
    "attributes": {
     "classes": [],
     "id": "",
     "n": "5"
    }
   },
   "outputs": [
    {
     "name": "stdout",
     "output_type": "stream",
     "text": [
      "Overwriting setup.ipy\n"
     ]
    }
   ],
   "source": [
    "%%writefile setup.ipy\n",
    "# Set up inline plots in the notebook\n",
    "import matplotlib.pyplot as plt\n",
    "%matplotlib inline\n",
    "\n",
    "# For larger, high-resolution figures by default:\n",
    "%config InlineBackend.figure_format = 'retina'\n",
    "import matplotlib\n",
    "matplotlib.rcParams['figure.figsize'] = (20.0, 10.0)\n",
    "\n",
    "# Import other useful libraries\n",
    "import pandas as pd\n",
    "import seaborn as sns\n",
    "import numpy as np\n",
    "import scipy.stats as stats\n",
    "\n",
    "# Limit the number of rows of DataFrames to display:\n",
    "pd.options.display.max_rows = 10\n",
    "\n",
    "# If Altair is installed:\n",
    "# import altair as alt"
   ]
  },
  {
   "cell_type": "markdown",
   "metadata": {},
   "source": [
    "This saves a `setup.ipy` script to the current directory. Now each notebook/report in the same directory can merely contain this line at the top:"
   ]
  },
  {
   "cell_type": "code",
   "execution_count": 6,
   "metadata": {
    "attributes": {
     "classes": [],
     "id": "",
     "n": "6"
    }
   },
   "outputs": [],
   "source": [
    "%run setup.ipy"
   ]
  },
  {
   "cell_type": "markdown",
   "metadata": {},
   "source": [
    "or notebooks in other directories can prefix it with its full or relative path:"
   ]
  },
  {
   "cell_type": "code",
   "execution_count": 7,
   "metadata": {
    "attributes": {
     "classes": [],
     "id": "",
     "n": "7"
    }
   },
   "outputs": [],
   "source": [
    "%run /path/to/folder/setup.ipy"
   ]
  },
  {
   "cell_type": "markdown",
   "metadata": {},
   "source": [
    "The rest of each notebook can be minimal. For example, here we download data from the web and create a bubble plot with various categories:"
   ]
  },
  {
   "cell_type": "code",
   "execution_count": 7,
   "metadata": {
    "attributes": {
     "classes": [],
     "id": "",
     "n": "7"
    }
   },
   "outputs": [],
   "source": [
    "# gapminder = pd.read_csv('https://vega.github.io/editor/data/gapminder-health-income.csv')\n",
    "gapminder = pd.read_csv('extras/gapminder-health-income.csv')"
   ]
  },
  {
   "cell_type": "code",
   "execution_count": 8,
   "metadata": {
    "attributes": {
     "classes": [],
     "id": "",
     "n": "8"
    }
   },
   "outputs": [
    {
     "data": {
      "text/html": [
       "<div>\n",
       "<table border=\"1\" class=\"dataframe\">\n",
       "  <thead>\n",
       "    <tr style=\"text-align: right;\">\n",
       "      <th></th>\n",
       "      <th>country</th>\n",
       "      <th>income</th>\n",
       "      <th>health</th>\n",
       "      <th>population</th>\n",
       "    </tr>\n",
       "  </thead>\n",
       "  <tbody>\n",
       "    <tr>\n",
       "      <th>0</th>\n",
       "      <td>Afghanistan</td>\n",
       "      <td>1925</td>\n",
       "      <td>57.63</td>\n",
       "      <td>32526562</td>\n",
       "    </tr>\n",
       "    <tr>\n",
       "      <th>1</th>\n",
       "      <td>Albania</td>\n",
       "      <td>10620</td>\n",
       "      <td>76.00</td>\n",
       "      <td>2896679</td>\n",
       "    </tr>\n",
       "    <tr>\n",
       "      <th>2</th>\n",
       "      <td>Algeria</td>\n",
       "      <td>13434</td>\n",
       "      <td>76.50</td>\n",
       "      <td>39666519</td>\n",
       "    </tr>\n",
       "    <tr>\n",
       "      <th>3</th>\n",
       "      <td>Andorra</td>\n",
       "      <td>46577</td>\n",
       "      <td>84.10</td>\n",
       "      <td>70473</td>\n",
       "    </tr>\n",
       "    <tr>\n",
       "      <th>4</th>\n",
       "      <td>Angola</td>\n",
       "      <td>7615</td>\n",
       "      <td>61.00</td>\n",
       "      <td>25021974</td>\n",
       "    </tr>\n",
       "  </tbody>\n",
       "</table>\n",
       "</div>"
      ],
      "text/plain": [
       "       country  income  health  population\n",
       "0  Afghanistan    1925   57.63    32526562\n",
       "1      Albania   10620   76.00     2896679\n",
       "2      Algeria   13434   76.50    39666519\n",
       "3      Andorra   46577   84.10       70473\n",
       "4       Angola    7615   61.00    25021974"
      ]
     },
     "execution_count": 8,
     "metadata": {},
     "output_type": "execute_result"
    }
   ],
   "source": [
    "gapminder[:5]"
   ]
  },
  {
   "cell_type": "code",
   "execution_count": 9,
   "metadata": {
    "attributes": {
     "classes": [],
     "id": "",
     "n": "9"
    }
   },
   "outputs": [
    {
     "data": {
      "text/html": [
       "<div class=\"vega-embed\" id=\"5c4fcc18-8b8a-4eaf-b5b5-63da3d02a7f2\"></div>\n",
       "\n",
       "<style>\n",
       ".vega-embed svg, .vega-embed canvas {\n",
       "  border: 1px dotted gray;\n",
       "}\n",
       "\n",
       ".vega-embed .vega-actions a {\n",
       "  margin-right: 6px;\n",
       "}\n",
       "</style>\n"
      ]
     },
     "metadata": {
      "jupyter-vega": "#5c4fcc18-8b8a-4eaf-b5b5-63da3d02a7f2"
     },
     "output_type": "display_data"
    },
    {
     "data": {
      "application/javascript": [
       "var spec = {\"config\": {\"cell\": {\"width\": 500.0, \"height\": 300.0}}, \"description\": \"A bubble plot showing the correlation between health and income for 187 countries in the world (modified from an example in Lisa Charlotte Rost's blog post 'One Chart, Twelve Charting Libraries' --http://lisacharlotterost.github.io/2016/05/17/one-chart-code/).\", \"encoding\": {\"color\": {\"value\": \"#000\"}, \"size\": {\"field\": \"population\", \"type\": \"quantitative\"}, \"x\": {\"field\": \"income\", \"scale\": {\"type\": \"log\"}, \"type\": \"quantitative\"}, \"y\": {\"field\": \"health\", \"scale\": {\"zero\": false}, \"type\": \"quantitative\"}}, \"mark\": \"circle\", \"data\": {\"values\": [{\"country\": \"Afghanistan\", \"income\": 1925, \"health\": 57.63, \"population\": 32526562}, {\"country\": \"Albania\", \"income\": 10620, \"health\": 76.0, \"population\": 2896679}, {\"country\": \"Algeria\", \"income\": 13434, \"health\": 76.5, \"population\": 39666519}, {\"country\": \"Andorra\", \"income\": 46577, \"health\": 84.1, \"population\": 70473}, {\"country\": \"Angola\", \"income\": 7615, \"health\": 61.0, \"population\": 25021974}, {\"country\": \"Antigua and Barbuda\", \"income\": 21049, \"health\": 75.2, \"population\": 91818}, {\"country\": \"Argentina\", \"income\": 17344, \"health\": 76.2, \"population\": 43416755}, {\"country\": \"Armenia\", \"income\": 7763, \"health\": 74.4, \"population\": 3017712}, {\"country\": \"Australia\", \"income\": 44056, \"health\": 81.8, \"population\": 23968973}, {\"country\": \"Austria\", \"income\": 44401, \"health\": 81.0, \"population\": 8544586}, {\"country\": \"Azerbaijan\", \"income\": 16986, \"health\": 72.9, \"population\": 9753968}, {\"country\": \"Bahamas\", \"income\": 22818, \"health\": 72.3, \"population\": 388019}, {\"country\": \"Bahrain\", \"income\": 44138, \"health\": 79.2, \"population\": 1377237}, {\"country\": \"Bangladesh\", \"income\": 3161, \"health\": 70.1, \"population\": 160995642}, {\"country\": \"Barbados\", \"income\": 12984, \"health\": 75.8, \"population\": 284215}, {\"country\": \"Belarus\", \"income\": 17415, \"health\": 70.4, \"population\": 9495826}, {\"country\": \"Belgium\", \"income\": 41240, \"health\": 80.4, \"population\": 11299192}, {\"country\": \"Belize\", \"income\": 8501, \"health\": 70.0, \"population\": 359287}, {\"country\": \"Benin\", \"income\": 1830, \"health\": 65.5, \"population\": 10879829}, {\"country\": \"Bhutan\", \"income\": 7983, \"health\": 70.2, \"population\": 774830}, {\"country\": \"Bolivia\", \"income\": 6295, \"health\": 72.3, \"population\": 10724705}, {\"country\": \"Bosnia and Herzegovina\", \"income\": 9833, \"health\": 77.9, \"population\": 3810416}, {\"country\": \"Botswana\", \"income\": 17196, \"health\": 66.4, \"population\": 2262485}, {\"country\": \"Brazil\", \"income\": 15441, \"health\": 75.6, \"population\": 207847528}, {\"country\": \"Brunei\", \"income\": 73003, \"health\": 78.7, \"population\": 423188}, {\"country\": \"Bulgaria\", \"income\": 16371, \"health\": 74.9, \"population\": 7149787}, {\"country\": \"Burkina Faso\", \"income\": 1654, \"health\": 62.8, \"population\": 18105570}, {\"country\": \"Burundi\", \"income\": 777, \"health\": 60.4, \"population\": 11178921}, {\"country\": \"Cambodia\", \"income\": 3267, \"health\": 68.4, \"population\": 15577899}, {\"country\": \"Cameroon\", \"income\": 2897, \"health\": 59.5, \"population\": 23344179}, {\"country\": \"Canada\", \"income\": 43294, \"health\": 81.7, \"population\": 35939927}, {\"country\": \"Cape Verde\", \"income\": 6514, \"health\": 74.6, \"population\": 520502}, {\"country\": \"Central African Republic\", \"income\": 599, \"health\": 53.8, \"population\": 4900274}, {\"country\": \"Chad\", \"income\": 2191, \"health\": 57.7, \"population\": 14037472}, {\"country\": \"Chile\", \"income\": 22465, \"health\": 79.3, \"population\": 17948141}, {\"country\": \"China\", \"income\": 13334, \"health\": 76.9, \"population\": 1376048943}, {\"country\": \"Colombia\", \"income\": 12761, \"health\": 75.8, \"population\": 48228704}, {\"country\": \"Comoros\", \"income\": 1472, \"health\": 64.1, \"population\": 788474}, {\"country\": \"Congo, Dem. Rep.\", \"income\": 809, \"health\": 58.3, \"population\": 77266814}, {\"country\": \"Congo, Rep.\", \"income\": 6220, \"health\": 61.9, \"population\": 4620330}, {\"country\": \"Costa Rica\", \"income\": 14132, \"health\": 80.0, \"population\": 4807850}, {\"country\": \"Cote d'Ivoire\", \"income\": 3491, \"health\": 60.33, \"population\": 22701556}, {\"country\": \"Croatia\", \"income\": 20260, \"health\": 78.0, \"population\": 4240317}, {\"country\": \"Cuba\", \"income\": 21291, \"health\": 78.5, \"population\": 11389562}, {\"country\": \"Cyprus\", \"income\": 29797, \"health\": 82.6, \"population\": 1165300}, {\"country\": \"Czech Republic\", \"income\": 29437, \"health\": 78.6, \"population\": 10543186}, {\"country\": \"Denmark\", \"income\": 43495, \"health\": 80.1, \"population\": 5669081}, {\"country\": \"Djibouti\", \"income\": 3139, \"health\": 64.63, \"population\": 887861}, {\"country\": \"Dominica\", \"income\": 10503, \"health\": 74.6, \"population\": 72680}, {\"country\": \"Dominican Republic\", \"income\": 12837, \"health\": 73.8, \"population\": 10528391}, {\"country\": \"Ecuador\", \"income\": 10996, \"health\": 75.2, \"population\": 16144363}, {\"country\": \"Egypt\", \"income\": 11031, \"health\": 71.3, \"population\": 91508084}, {\"country\": \"El Salvador\", \"income\": 7776, \"health\": 74.1, \"population\": 6126583}, {\"country\": \"Equatorial Guinea\", \"income\": 31087, \"health\": 60.63, \"population\": 845060}, {\"country\": \"Eritrea\", \"income\": 1129, \"health\": 62.9, \"population\": 5227791}, {\"country\": \"Estonia\", \"income\": 26812, \"health\": 76.8, \"population\": 1312558}, {\"country\": \"Ethiopia\", \"income\": 1520, \"health\": 63.6, \"population\": 99390750}, {\"country\": \"Fiji\", \"income\": 7925, \"health\": 66.3, \"population\": 892145}, {\"country\": \"Finland\", \"income\": 38923, \"health\": 80.8, \"population\": 5503457}, {\"country\": \"France\", \"income\": 37599, \"health\": 81.9, \"population\": 64395345}, {\"country\": \"Gabon\", \"income\": 18627, \"health\": 60.53, \"population\": 1725292}, {\"country\": \"Gambia\", \"income\": 1644, \"health\": 65.1, \"population\": 1990924}, {\"country\": \"Georgia\", \"income\": 7474, \"health\": 73.3, \"population\": 3999812}, {\"country\": \"Germany\", \"income\": 44053, \"health\": 81.1, \"population\": 80688545}, {\"country\": \"Ghana\", \"income\": 4099, \"health\": 65.5, \"population\": 27409893}, {\"country\": \"Greece\", \"income\": 25430, \"health\": 79.8, \"population\": 10954617}, {\"country\": \"Grenada\", \"income\": 11593, \"health\": 71.7, \"population\": 106825}, {\"country\": \"Guatemala\", \"income\": 7279, \"health\": 73.1, \"population\": 16342897}, {\"country\": \"Guinea\", \"income\": 1225, \"health\": 60.8, \"population\": 12608590}, {\"country\": \"Guinea-Bissau\", \"income\": 1386, \"health\": 53.4, \"population\": 1844325}, {\"country\": \"Guyana\", \"income\": 6816, \"health\": 64.4, \"population\": 767085}, {\"country\": \"Haiti\", \"income\": 1710, \"health\": 65.3, \"population\": 10711067}, {\"country\": \"Honduras\", \"income\": 4270, \"health\": 72.4, \"population\": 8075060}, {\"country\": \"Hungary\", \"income\": 24200, \"health\": 76.2, \"population\": 9855023}, {\"country\": \"Iceland\", \"income\": 42182, \"health\": 82.8, \"population\": 329425}, {\"country\": \"India\", \"income\": 5903, \"health\": 66.8, \"population\": 1311050527}, {\"country\": \"Indonesia\", \"income\": 10504, \"health\": 70.9, \"population\": 257563815}, {\"country\": \"Iran\", \"income\": 15573, \"health\": 78.5, \"population\": 79109272}, {\"country\": \"Iraq\", \"income\": 14646, \"health\": 72.1, \"population\": 36423395}, {\"country\": \"Ireland\", \"income\": 47758, \"health\": 80.4, \"population\": 4688465}, {\"country\": \"Israel\", \"income\": 31590, \"health\": 82.4, \"population\": 8064036}, {\"country\": \"Italy\", \"income\": 33297, \"health\": 82.1, \"population\": 59797685}, {\"country\": \"Jamaica\", \"income\": 8606, \"health\": 75.5, \"population\": 2793335}, {\"country\": \"Japan\", \"income\": 36162, \"health\": 83.5, \"population\": 126573481}, {\"country\": \"Jordan\", \"income\": 11752, \"health\": 78.3, \"population\": 7594547}, {\"country\": \"Kazakhstan\", \"income\": 23468, \"health\": 68.2, \"population\": 17625226}, {\"country\": \"Kenya\", \"income\": 2898, \"health\": 66.63, \"population\": 46050302}, {\"country\": \"Kiribati\", \"income\": 1824, \"health\": 62.4, \"population\": 112423}, {\"country\": \"Kuwait\", \"income\": 82633, \"health\": 80.7, \"population\": 3892115}, {\"country\": \"Kyrgyz Republic\", \"income\": 3245, \"health\": 69.0, \"population\": 5939962}, {\"country\": \"Lao\", \"income\": 5212, \"health\": 66.4, \"population\": 6802023}, {\"country\": \"Latvia\", \"income\": 23282, \"health\": 75.7, \"population\": 1970503}, {\"country\": \"Lebanon\", \"income\": 17050, \"health\": 78.5, \"population\": 5850743}, {\"country\": \"Lesotho\", \"income\": 2598, \"health\": 48.5, \"population\": 2135022}, {\"country\": \"Liberia\", \"income\": 958, \"health\": 63.9, \"population\": 4503438}, {\"country\": \"Libya\", \"income\": 17261, \"health\": 76.2, \"population\": 6278438}, {\"country\": \"Lithuania\", \"income\": 26665, \"health\": 75.4, \"population\": 2878405}, {\"country\": \"Luxembourg\", \"income\": 88314, \"health\": 81.1, \"population\": 567110}, {\"country\": \"Macedonia, FYR\", \"income\": 12547, \"health\": 77.0, \"population\": 2078453}, {\"country\": \"Madagascar\", \"income\": 1400, \"health\": 64.7, \"population\": 24235390}, {\"country\": \"Malawi\", \"income\": 799, \"health\": 60.22, \"population\": 17215232}, {\"country\": \"Malaysia\", \"income\": 24320, \"health\": 75.1, \"population\": 30331007}, {\"country\": \"Maldives\", \"income\": 14408, \"health\": 79.5, \"population\": 363657}, {\"country\": \"Mali\", \"income\": 1684, \"health\": 57.6, \"population\": 17599694}, {\"country\": \"Malta\", \"income\": 30265, \"health\": 82.1, \"population\": 418670}, {\"country\": \"Marshall Islands\", \"income\": 3661, \"health\": 65.1, \"population\": 52993}, {\"country\": \"Mauritania\", \"income\": 3877, \"health\": 65.7, \"population\": 4067564}, {\"country\": \"Mauritius\", \"income\": 18350, \"health\": 73.9, \"population\": 1273212}, {\"country\": \"Mexico\", \"income\": 16850, \"health\": 74.5, \"population\": 127017224}, {\"country\": \"Micronesia, Fed. Sts.\", \"income\": 3510, \"health\": 67.0, \"population\": 104460}, {\"country\": \"Moldova\", \"income\": 4896, \"health\": 72.7, \"population\": 4068897}, {\"country\": \"Mongolia\", \"income\": 11819, \"health\": 65.3, \"population\": 2959134}, {\"country\": \"Montenegro\", \"income\": 14833, \"health\": 75.8, \"population\": 625781}, {\"country\": \"Morocco\", \"income\": 7319, \"health\": 74.7, \"population\": 34377511}, {\"country\": \"Mozambique\", \"income\": 1176, \"health\": 56.4, \"population\": 27977863}, {\"country\": \"Myanmar\", \"income\": 4012, \"health\": 67.9, \"population\": 53897154}, {\"country\": \"Namibia\", \"income\": 10040, \"health\": 61.0, \"population\": 2458830}, {\"country\": \"Nepal\", \"income\": 2352, \"health\": 71.2, \"population\": 28513700}, {\"country\": \"Netherlands\", \"income\": 45784, \"health\": 80.6, \"population\": 16924929}, {\"country\": \"New Zealand\", \"income\": 34186, \"health\": 80.6, \"population\": 4528526}, {\"country\": \"Nicaragua\", \"income\": 4712, \"health\": 76.8, \"population\": 6082032}, {\"country\": \"Niger\", \"income\": 943, \"health\": 62.2, \"population\": 19899120}, {\"country\": \"Nigeria\", \"income\": 5727, \"health\": 61.33, \"population\": 182201962}, {\"country\": \"North Korea\", \"income\": 1390, \"health\": 71.4, \"population\": 25155317}, {\"country\": \"Norway\", \"income\": 64304, \"health\": 81.6, \"population\": 5210967}, {\"country\": \"Oman\", \"income\": 48226, \"health\": 75.7, \"population\": 4490541}, {\"country\": \"Pakistan\", \"income\": 4743, \"health\": 66.5, \"population\": 188924874}, {\"country\": \"Panama\", \"income\": 20485, \"health\": 78.2, \"population\": 3929141}, {\"country\": \"Papua New Guinea\", \"income\": 2529, \"health\": 60.6, \"population\": 7619321}, {\"country\": \"Paraguay\", \"income\": 8219, \"health\": 73.9, \"population\": 6639123}, {\"country\": \"Peru\", \"income\": 11903, \"health\": 77.5, \"population\": 31376670}, {\"country\": \"Philippines\", \"income\": 6876, \"health\": 70.2, \"population\": 100699395}, {\"country\": \"Poland\", \"income\": 24787, \"health\": 77.3, \"population\": 38611794}, {\"country\": \"Portugal\", \"income\": 26437, \"health\": 79.8, \"population\": 10349803}, {\"country\": \"Qatar\", \"income\": 132877, \"health\": 82.0, \"population\": 2235355}, {\"country\": \"Romania\", \"income\": 19203, \"health\": 76.8, \"population\": 19511324}, {\"country\": \"Russia\", \"income\": 23038, \"health\": 73.13, \"population\": 143456918}, {\"country\": \"Rwanda\", \"income\": 1549, \"health\": 66.53, \"population\": 11609666}, {\"country\": \"Samoa\", \"income\": 5558, \"health\": 72.2, \"population\": 193228}, {\"country\": \"Sao Tome and Principe\", \"income\": 3003, \"health\": 68.8, \"population\": 190344}, {\"country\": \"Saudi Arabia\", \"income\": 52469, \"health\": 78.1, \"population\": 31540372}, {\"country\": \"Senegal\", \"income\": 2251, \"health\": 66.1, \"population\": 15129273}, {\"country\": \"Serbia\", \"income\": 12908, \"health\": 78.1, \"population\": 8850975}, {\"country\": \"Seychelles\", \"income\": 25684, \"health\": 73.7, \"population\": 96471}, {\"country\": \"Sierra Leone\", \"income\": 2085, \"health\": 58.5, \"population\": 6453184}, {\"country\": \"Singapore\", \"income\": 80794, \"health\": 82.1, \"population\": 5603740}, {\"country\": \"Slovak Republic\", \"income\": 27204, \"health\": 76.4, \"population\": 5426258}, {\"country\": \"Slovenia\", \"income\": 28550, \"health\": 80.2, \"population\": 2067526}, {\"country\": \"Solomon Islands\", \"income\": 2047, \"health\": 64.1, \"population\": 583591}, {\"country\": \"Somalia\", \"income\": 624, \"health\": 58.7, \"population\": 10787104}, {\"country\": \"South Africa\", \"income\": 12509, \"health\": 63.72, \"population\": 54490406}, {\"country\": \"South Korea\", \"income\": 34644, \"health\": 80.7, \"population\": 50293439}, {\"country\": \"South Sudan\", \"income\": 3047, \"health\": 58.0, \"population\": 12339812}, {\"country\": \"Spain\", \"income\": 32979, \"health\": 81.7, \"population\": 46121699}, {\"country\": \"Sri Lanka\", \"income\": 10624, \"health\": 76.5, \"population\": 20715010}, {\"country\": \"St. Lucia\", \"income\": 9997, \"health\": 74.5, \"population\": 184999}, {\"country\": \"St. Vincent and the Grenadines\", \"income\": 10435, \"health\": 72.9, \"population\": 109462}, {\"country\": \"Sudan\", \"income\": 3975, \"health\": 69.5, \"population\": 40234882}, {\"country\": \"Suriname\", \"income\": 17125, \"health\": 70.5, \"population\": 542975}, {\"country\": \"Swaziland\", \"income\": 6095, \"health\": 51.5, \"population\": 1286970}, {\"country\": \"Sweden\", \"income\": 44892, \"health\": 82.0, \"population\": 9779426}, {\"country\": \"Switzerland\", \"income\": 56118, \"health\": 82.9, \"population\": 8298663}, {\"country\": \"Syria\", \"income\": 4637, \"health\": 70.26, \"population\": 18502413}, {\"country\": \"Tajikistan\", \"income\": 2582, \"health\": 71.0, \"population\": 8481855}, {\"country\": \"Tanzania\", \"income\": 2571, \"health\": 63.43, \"population\": 53470420}, {\"country\": \"Thailand\", \"income\": 14512, \"health\": 75.1, \"population\": 67959359}, {\"country\": \"Timor-Leste\", \"income\": 2086, \"health\": 72.4, \"population\": 1184765}, {\"country\": \"Togo\", \"income\": 1433, \"health\": 64.23, \"population\": 7304578}, {\"country\": \"Tonga\", \"income\": 5069, \"health\": 70.5, \"population\": 106170}, {\"country\": \"Trinidad and Tobago\", \"income\": 30113, \"health\": 71.4, \"population\": 1360088}, {\"country\": \"Tunisia\", \"income\": 11126, \"health\": 77.3, \"population\": 11253554}, {\"country\": \"Turkey\", \"income\": 19360, \"health\": 76.5, \"population\": 78665830}, {\"country\": \"Turkmenistan\", \"income\": 15865, \"health\": 67.9, \"population\": 5373502}, {\"country\": \"Uganda\", \"income\": 1680, \"health\": 60.8, \"population\": 39032383}, {\"country\": \"Ukraine\", \"income\": 8449, \"health\": 72.1, \"population\": 44823765}, {\"country\": \"United Arab Emirates\", \"income\": 60749, \"health\": 76.6, \"population\": 9156963}, {\"country\": \"United Kingdom\", \"income\": 38225, \"health\": 81.4, \"population\": 64715810}, {\"country\": \"United States\", \"income\": 53354, \"health\": 79.1, \"population\": 321773631}, {\"country\": \"Uruguay\", \"income\": 20438, \"health\": 77.3, \"population\": 3431555}, {\"country\": \"Uzbekistan\", \"income\": 5598, \"health\": 70.1, \"population\": 29893488}, {\"country\": \"Vanuatu\", \"income\": 2912, \"health\": 65.0, \"population\": 264652}, {\"country\": \"Venezuela\", \"income\": 15753, \"health\": 75.8, \"population\": 31108083}, {\"country\": \"Vietnam\", \"income\": 5623, \"health\": 76.5, \"population\": 93447601}, {\"country\": \"West Bank and Gaza\", \"income\": 4319, \"health\": 75.2, \"population\": 4668466}, {\"country\": \"Yemen\", \"income\": 3887, \"health\": 67.6, \"population\": 26832215}, {\"country\": \"Zambia\", \"income\": 4034, \"health\": 58.96, \"population\": 16211767}, {\"country\": \"Zimbabwe\", \"income\": 1801, \"health\": 60.01, \"population\": 15602751}]}};\n",
       "var selector = \"#5c4fcc18-8b8a-4eaf-b5b5-63da3d02a7f2\";\n",
       "var type = \"vega-lite\";\n",
       "\n",
       "var output_area = this;\n",
       "require(['nbextensions/jupyter-vega/index'], function(vega) {\n",
       "  vega.render(selector, spec, type, output_area);\n",
       "}, function (err) {\n",
       "  if (err.requireType !== 'scripterror') {\n",
       "    throw(err);\n",
       "  }\n",
       "});\n"
      ]
     },
     "metadata": {
      "jupyter-vega": "#5c4fcc18-8b8a-4eaf-b5b5-63da3d02a7f2"
     },
     "output_type": "display_data"
    },
    {
     "data": {
      "image/png": "[encoded data removed]"
     },
     "metadata": {
      "jupyter-vega": "#5c4fcc18-8b8a-4eaf-b5b5-63da3d02a7f2"
     },
     "output_type": "display_data"
    }
   ],
   "source": [
    "import altair as alt\n",
    "alt.Chart(gapminder).mark_circle().encode(\n",
    "    alt.X('income:Q', scale=alt.Scale(type='log')),\n",
    "    alt.Y('health:Q', scale=alt.Scale(zero=False)),\n",
    "    size='population:Q'\n",
    ").configure_cell(\n",
    "    height=300.0,\n",
    "    width=500.0,\n",
    ")"
   ]
  },
  {
   "cell_type": "markdown",
   "metadata": {},
   "source": [
    "## Managing the kernel\n",
    "\n",
    "Code is run in a separate process called the IPython Kernel.  The Kernel can be interrupted or restarted.  Try running the following cell and then hit the \"Stop\" button (square) in the toolbar above."
   ]
  },
  {
   "cell_type": "code",
   "execution_count": 11,
   "metadata": {
    "attributes": {
     "classes": [],
     "id": "",
     "n": "11"
    }
   },
   "outputs": [
    {
     "ename": "KeyboardInterrupt",
     "evalue": "",
     "output_type": "error",
     "traceback": [
      "---------------------------------------------------------------------------",
      "KeyboardInterrupt                        Traceback (most recent call last)",
      "...",
      "KeyboardInterrupt"
     ]
    }
   ],
   "source": [
    "import time\n",
    "time.sleep(10)"
   ]
  },
  {
   "cell_type": "markdown",
   "metadata": {},
   "source": [
    "If the kernel dies you will be prompted to restart it. You can also restart it manualy using the \"Kernel:Restart\" menu item or clicking the Restart icon.\n",
    "\n",
    "**Warning:** This restarts the Python process, so you will lose any data and imported modules and need to re-run the notebook.\n",
    "\n",
    "### Exercise\n",
    "\n",
    "Define a variable, then restart the kernel. Verify that the variable has been cleared.\n",
    "\n",
    "## Run all\n",
    "\n",
    "It is possible to run all cells in a notebook by using the \"Run All\" item in the \"Cell\" menu."
   ]
  }
 ],
 "metadata": {},
 "nbformat": 4,
 "nbformat_minor": 2
}
