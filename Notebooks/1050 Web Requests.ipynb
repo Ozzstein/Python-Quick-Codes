{
 "cells": [
  {
   "cell_type": "markdown",
   "metadata": {},
   "source": [
    "## Web protocols"
   ]
  },
  {
   "cell_type": "code",
   "execution_count": 25,
   "metadata": {
    "attributes": {
     "classes": [],
     "id": "",
     "n": "25"
    }
   },
   "outputs": [],
   "source": [
    "import requests"
   ]
  },
  {
   "cell_type": "code",
   "execution_count": 26,
   "metadata": {
    "attributes": {
     "classes": [],
     "id": "",
     "n": "26"
    }
   },
   "outputs": [
    {
     "name": "stdout",
     "output_type": "stream",
     "text": [
      "<!doctype html><html itemscope=\"\" itemtype=\"http://schema.org/WebPage\" lang=\"en-AU\"><head><meta content=\"text/html; charset=UTF-8\" http-equiv=\"Content-Type\"><meta content=\"/images/branding/googleg/1x/\n"
     ]
    }
   ],
   "source": [
    "url = \"http://www.google.com\"\n",
    "response = requests.get(url)\n",
    "print(response.text[:200])"
   ]
  },
  {
   "cell_type": "markdown",
   "metadata": {},
   "source": [
    "Web APIs can be accessed too, passing data using the params keyword, and retreiving JSON or other data formats in return."
   ]
  },
  {
   "cell_type": "code",
   "execution_count": 27,
   "metadata": {
    "attributes": {
     "classes": [],
     "id": "",
     "n": "27"
    }
   },
   "outputs": [
    {
     "name": "stdout",
     "output_type": "stream",
     "text": [
      "{'cod': 401, 'message': 'Invalid API key. Please see http://openweathermap.org/faq#error401 for more info.'}\n"
     ]
    }
   ],
   "source": [
    "weather_url = \"http://api.openweathermap.org/data/2.5/weather?q=Melbourne,AUS\"\n",
    "response = requests.get(weather_url)\n",
    "print(response.json())"
   ]
  },
  {
   "cell_type": "markdown",
   "metadata": {},
   "source": [
    "We accessed this API, but it won't let us get data without a key. We need to pass an API key as data into our request."
   ]
  },
  {
   "cell_type": "code",
   "execution_count": 28,
   "metadata": {
    "attributes": {
     "classes": [],
     "id": "",
     "n": "28"
    }
   },
   "outputs": [
    {
     "name": "stdout",
     "output_type": "stream",
     "text": [
      "{'id': 2158177, 'sys': {'sunrise': 1465940035, 'id': 1458783016, 'sunset': 1465974442, 'type': 3, 'country': 'AU', 'message': 0.0099}, 'wind': {'speed': 1.41, 'deg': 353.003}, 'name': 'Melbourne', 'main': {'humidity': 77, 'temp': 285.99, 'pressure': 1031.424, 'temp_max': 288.71, 'temp_min': 281.48}, 'base': 'stations', 'clouds': {'all': 0}, 'coord': {'lat': -37.81, 'lon': 144.96}, 'rain': {}, 'cod': 200, 'dt': 1465954517, 'weather': [{'icon': '01d', 'id': 800, 'main': 'Clear', 'description': 'clear sky'}]}\n"
     ]
    }
   ],
   "source": [
    "APPID = \"ef29e1f100cb2a25ce2fb9f5816faa5d\"  # Your key here\n",
    "\n",
    "params = {'q': 'Melbourne,AUS', \"APPID\": APPID}\n",
    "\n",
    "# Note: don't put the query data in url, as it is in params\n",
    "base_url = \"http://api.openweathermap.org/data/2.5/weather\"\n",
    "response = requests.get(base_url, params=params)\n",
    "print(response.json())"
   ]
  },
  {
   "cell_type": "markdown",
   "metadata": {},
   "source": [
    "### Sleeping\n",
    "\n",
    "Most web apis have a restriction on how many times you can call them. To ensure you do not get blocked, you need to read the rules of the API and determine how many calls you can make. In this case, we can ensure we don't go over the restriction by delaying for 1 second between calls. Without an explicit delay, the python program will make as many calls, as quickly as it can."
   ]
  },
  {
   "cell_type": "code",
   "execution_count": 2,
   "metadata": {
    "attributes": {
     "classes": [],
     "id": "",
     "n": "2"
    }
   },
   "outputs": [],
   "source": [
    "import time\n",
    "\n",
    "time.sleep(1)  # Do this before every web request, **especially** in a loop!"
   ]
  },
  {
   "cell_type": "markdown",
   "metadata": {},
   "source": [
    "**Exercise**:\n",
    "\n",
    "1. Grab the weather for Sydney\n",
    "2. The temperatures above are in Kelvin. Setting a parameter of \"units\" to \"metric\" will return the temperature in Celcius.\n",
    "3. Extract *just* the current temperature and print it out. Note that the returned data from response.json() is a normal python dictionary.\n",
    "4. Extract the local sunrise time. This format is \"seconds since the start of 1970\". We will work out how to convert this in the next section.\n",
    "5. Extract country captials from /data/countries.csv, and extract the temperatures for 10 cities. Use Exception handling if there is an error to continue if there is an error."
   ]
  },
  {
   "cell_type": "code",
   "execution_count": 1,
   "metadata": {
    "attributes": {
     "classes": [],
     "id": "",
     "n": "1"
    }
   },
   "outputs": [],
   "source": [
    "# See solutions/temperature.py"
   ]
  }
 ],
 "metadata": {},
 "nbformat": 4,
 "nbformat_minor": 2
}
