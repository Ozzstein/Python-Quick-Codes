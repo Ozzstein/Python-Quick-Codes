{
 "cells": [
  {
   "cell_type": "markdown",
   "metadata": {},
   "source": [
    "# Python basics\n",
    "\n",
    "## Getting help\n",
    "\n",
    "To get help from the interactive console, pass the name of any object (function, variable, etc.) to the ``help()`` function:"
   ]
  },
  {
   "cell_type": "code",
   "execution_count": 1,
   "metadata": {
    "attributes": {
     "classes": [],
     "id": "",
     "n": "1"
    }
   },
   "outputs": [
    {
     "name": "stdout",
     "output_type": "stream",
     "text": [
      "Help on built-in function print in module builtins:\n",
      "\n",
      "print(...)\n",
      "    print(value, ..., sep=' ', end='\\n', file=sys.stdout, flush=False)\n",
      "    \n",
      "    Prints the values to a stream, or to sys.stdout by default.\n",
      "    Optional keyword arguments:\n",
      "    file:  a file-like object (stream); defaults to the current sys.stdout.\n",
      "    sep:   string inserted between values, default a space.\n",
      "    end:   string appended after the last value, default a newline.\n",
      "    flush: whether to forcibly flush the stream.\n",
      "\n"
     ]
    }
   ],
   "source": [
    "help(print)"
   ]
  },
  {
   "cell_type": "markdown",
   "metadata": {},
   "source": [
    "If the above gives a ``SyntaxError``, you are using Python 2 rather than Python 3.x. In this case,  type this at the top of your scripts / modules:"
   ]
  },
  {
   "cell_type": "code",
   "execution_count": 2,
   "metadata": {
    "attributes": {
     "classes": [],
     "id": "",
     "n": "2"
    }
   },
   "outputs": [],
   "source": [
    "from __future__ import print_function"
   ]
  },
  {
   "cell_type": "markdown",
   "metadata": {},
   "source": [
    "Then you can call `help(print)` as above.\n",
    "\n",
    "If you are using IPython/Jupyter, you can append a ``?`` to an object's name, like this:"
   ]
  },
  {
   "cell_type": "code",
   "execution_count": 3,
   "metadata": {
    "attributes": {
     "classes": [],
     "id": "",
     "n": "3"
    }
   },
   "outputs": [],
   "source": [
    "print?"
   ]
  },
  {
   "cell_type": "markdown",
   "metadata": {},
   "source": [
    "This brings up the \"docstring\" attached to an object (variable, function, class, ...).\n",
    "\n",
    "## Variables\n",
    "\n",
    "Variables store things. Python has these basic variable types: ``int`` (integer), ``float``, ``str`` (string), ``list``, ``tuple``, ``dict`` (dictionary), ``set``."
   ]
  },
  {
   "cell_type": "code",
   "execution_count": 4,
   "metadata": {
    "attributes": {
     "classes": [],
     "id": "",
     "n": "4"
    }
   },
   "outputs": [],
   "source": [
    "# How to create new variables:\n",
    "myint = 5\n",
    "myfloat = 7.1\n",
    "mystr = 'au'\n",
    "mylist = [1, 3, 5]\n",
    "mytuple = (1, 3, 5)\n",
    "mydict = {'au': 'Australia', 'jp': 'Japan', 'uk': 'United Kingdom'}\n",
    "myset = {'au', 'jp', 'uk'}"
   ]
  },
  {
   "cell_type": "markdown",
   "metadata": {},
   "source": [
    "Variable names can be any combination of letters, numbers and underscores:"
   ]
  },
  {
   "cell_type": "code",
   "execution_count": 5,
   "metadata": {
    "attributes": {
     "classes": [],
     "id": "",
     "n": "5"
    }
   },
   "outputs": [],
   "source": [
    "# Valid and common format for naming varaibles\n",
    "\n",
    "all_lowercase_with_underscores = 'valid'\n",
    "\n",
    "# Valid but unusual to find in Python\n",
    "camelCaseVariable = 'unusual in Python, but still valid'\n",
    "onewordlowercase = 'Hard to read, use underscores'"
   ]
  },
  {
   "cell_type": "code",
   "execution_count": 6,
   "metadata": {
    "attributes": {
     "classes": [],
     "id": "",
     "n": "6"
    }
   },
   "outputs": [
    {
     "ename": "SyntaxError",
     "evalue": "invalid syntax (<ipython-input-6-bccf36553a91>, line 2)",
     "output_type": "error",
     "traceback": [
      "\u001b[1;36m  File \u001b[1;32m\"<ipython-input-6-bccf36553a91>\"\u001b[1;36m, line \u001b[1;32m2\u001b[0m\n\u001b[1;33m    1var = 0    # number cannot be first character\u001b[0m\n\u001b[1;37m       ^\u001b[0m\n\u001b[1;31mSyntaxError\u001b[0m\u001b[1;31m:\u001b[0m invalid syntax\n"
     ]
    }
   ],
   "source": [
    "# Invalid:\n",
    "1var = 0    # number cannot be first character\n",
    "var! = 0    # symbols like ! have special meanings"
   ]
  },
  {
   "cell_type": "markdown",
   "metadata": {},
   "source": [
    "## Conditions\n",
    "\n",
    "Python uses ``if`` / ``elif`` / ``else`` blocks for conditional flow control:"
   ]
  },
  {
   "cell_type": "code",
   "execution_count": 7,
   "metadata": {
    "attributes": {
     "classes": [],
     "id": "",
     "n": "7"
    }
   },
   "outputs": [],
   "source": [
    "control_mean = 1.0\n",
    "treatment_mean = 1.2"
   ]
  },
  {
   "cell_type": "code",
   "execution_count": 8,
   "metadata": {
    "attributes": {
     "classes": [],
     "id": "",
     "n": "8"
    }
   },
   "outputs": [
    {
     "name": "stdout",
     "output_type": "stream",
     "text": [
      "The treatment appears to have some positive effect\n"
     ]
    }
   ],
   "source": [
    "if treatment_mean > control_mean:\n",
    "    print('The treatment appears to have some positive effect')"
   ]
  },
  {
   "cell_type": "code",
   "execution_count": 9,
   "metadata": {
    "attributes": {
     "classes": [],
     "id": "",
     "n": "9"
    }
   },
   "outputs": [
    {
     "name": "stdout",
     "output_type": "stream",
     "text": [
      "The treatment appears to have some positive effect.\n"
     ]
    }
   ],
   "source": [
    "if treatment_mean > control_mean:\n",
    "    print('The treatment appears to have some positive effect.')\n",
    "elif treatment_mean == control_mean:\n",
    "    print(\"The treatment doesn't appear to have any effect.\")\n",
    "else:\n",
    "    print('The treatment appears to have a negative effect.')"
   ]
  },
  {
   "cell_type": "markdown",
   "metadata": {},
   "source": [
    "Python has English-like conditional operators for boolean (True/False) expressions: ``and``, ``or``, ``not``:"
   ]
  },
  {
   "cell_type": "code",
   "execution_count": 10,
   "metadata": {
    "attributes": {
     "classes": [],
     "id": "",
     "n": "10"
    }
   },
   "outputs": [
    {
     "name": "stdout",
     "output_type": "stream",
     "text": [
      "The effect of the treatment is between 0 and 2\n"
     ]
    }
   ],
   "source": [
    "if 0 < treatment_mean and treatment_mean < 2:\n",
    "    print('The effect of the treatment is between 0 and 2')\n",
    "else:\n",
    "    print('The effect of the treatment is not between 0 and 2')"
   ]
  },
  {
   "cell_type": "markdown",
   "metadata": {},
   "source": [
    "The above conditions can be rewritten more simply as follows:"
   ]
  },
  {
   "cell_type": "code",
   "execution_count": 11,
   "metadata": {
    "attributes": {
     "classes": [],
     "id": "",
     "n": "11"
    }
   },
   "outputs": [
    {
     "name": "stdout",
     "output_type": "stream",
     "text": [
      "The effect of the treatment is between 0 and 2\n"
     ]
    }
   ],
   "source": [
    "if 0 < treatment_mean < 2:\n",
    "    print('The effect of the treatment is between 0 and 2')\n",
    "else:\n",
    "    print('The effect of the treatment is not between 0 and 2')"
   ]
  },
  {
   "cell_type": "markdown",
   "metadata": {},
   "source": [
    "Yet another way of writing this is with ``not``:"
   ]
  },
  {
   "cell_type": "code",
   "execution_count": 12,
   "metadata": {
    "attributes": {
     "classes": [],
     "id": "",
     "n": "12"
    }
   },
   "outputs": [
    {
     "name": "stdout",
     "output_type": "stream",
     "text": [
      "The effect of the treatment is between 0 and 2\n"
     ]
    }
   ],
   "source": [
    "if not (0 < treatment_mean < 2):\n",
    "    print('The effect of the treatment is not between 0 and 2')\n",
    "else:\n",
    "    print('The effect of the treatment is between 0 and 2')"
   ]
  },
  {
   "cell_type": "markdown",
   "metadata": {},
   "source": [
    "## Functions"
   ]
  },
  {
   "cell_type": "code",
   "execution_count": 13,
   "metadata": {
    "attributes": {
     "classes": [],
     "id": "",
     "n": "13"
    }
   },
   "outputs": [],
   "source": [
    "def greet(name):\n",
    "    \"\"\"\n",
    "    Creates a greeting for the person.\n",
    "    \"\"\"\n",
    "    return \"Hello \" + name + \"!\""
   ]
  },
  {
   "cell_type": "code",
   "execution_count": 14,
   "metadata": {
    "attributes": {
     "classes": [],
     "id": "",
     "n": "14"
    }
   },
   "outputs": [
    {
     "name": "stdout",
     "output_type": "stream",
     "text": [
      "Help on function greet in module __main__:\n",
      "\n",
      "greet(name)\n",
      "    Creates a greeting for the person.\n",
      "\n"
     ]
    }
   ],
   "source": [
    "# You can call help on your new function, which will read the docstring\n",
    "help(greet)"
   ]
  },
  {
   "cell_type": "code",
   "execution_count": 15,
   "metadata": {
    "attributes": {
     "classes": [],
     "id": "",
     "n": "15"
    }
   },
   "outputs": [
    {
     "data": {
      "text/plain": [
       "'Hello Robert!'"
      ]
     },
     "execution_count": 15,
     "metadata": {},
     "output_type": "execute_result"
    }
   ],
   "source": [
    "greet(\"Robert\")"
   ]
  },
  {
   "cell_type": "markdown",
   "metadata": {},
   "source": [
    "Here is another function:"
   ]
  },
  {
   "cell_type": "code",
   "execution_count": 1,
   "metadata": {
    "attributes": {
     "classes": [],
     "id": "",
     "n": "1"
    }
   },
   "outputs": [],
   "source": [
    "def bmi(mass, height):\n",
    "    \"\"\"\n",
    "    Returns the Body Mass Index for a person's mass in kg and height in metres\n",
    "    \"\"\"\n",
    "    return mass / height**2"
   ]
  },
  {
   "cell_type": "markdown",
   "metadata": {},
   "source": [
    "Notice that ``**`` is the power (exponentiation) operator in Python. Watch out: `^` gives a bitwise exclusive or!\n",
    "\n",
    "\n",
    "### Function keyword arguments\n",
    "\n",
    "Functions can have optional arguments (\"keyword arguments\"):"
   ]
  },
  {
   "cell_type": "code",
   "execution_count": 16,
   "metadata": {
    "attributes": {
     "classes": [],
     "id": "",
     "n": "16"
    }
   },
   "outputs": [],
   "source": [
    "def greet(name, is_morning=True):\n",
    "    \"\"\"\n",
    "    Creates a greeting for the person, based on the time.\n",
    "    \"\"\"\n",
    "    if is_morning:\n",
    "        return \"Good morning \" + name + \"!\"\n",
    "    else:\n",
    "        return \"Hello \" + name + \"!\""
   ]
  },
  {
   "cell_type": "code",
   "execution_count": 17,
   "metadata": {
    "attributes": {
     "classes": [],
     "id": "",
     "n": "17"
    }
   },
   "outputs": [
    {
     "data": {
      "text/plain": [
       "'Good morning Robert!'"
      ]
     },
     "execution_count": 17,
     "metadata": {},
     "output_type": "execute_result"
    }
   ],
   "source": [
    "name = \"Robert\"\n",
    "greet(name, is_morning=True)"
   ]
  },
  {
   "cell_type": "code",
   "execution_count": 18,
   "metadata": {
    "attributes": {
     "classes": [],
     "id": "",
     "n": "18"
    }
   },
   "outputs": [
    {
     "data": {
      "text/plain": [
       "'Hello Robert!'"
      ]
     },
     "execution_count": 18,
     "metadata": {},
     "output_type": "execute_result"
    }
   ],
   "source": [
    "greet(name, is_morning=False)"
   ]
  },
  {
   "cell_type": "markdown",
   "metadata": {},
   "source": [
    "### Exercise\n",
    "\n",
    "(a). Write a function to determine if a number is odd or even. Hint: Use the modulo operator to get the remainder:\n",
    "\n",
    "`7 % 5` is 2\n",
    "\n",
    "`175 % 50` is 25\n",
    "\n",
    "(b). Write a function to convert a height, given in feet and inches (as two parameters to our function), into centimeters. Hint: convert feet and inches to total inches first. \n",
    "\n",
    "(c). Make the number of inches default to zero if not given."
   ]
  },
  {
   "cell_type": "code",
   "execution_count": null,
   "metadata": {},
   "outputs": [],
   "source": [
    "# See solutions/oddsevens.py\n",
    "\n",
    "# See solutions/convert_height.py\n",
    "\n",
    "# See solutions/convert_height_default.py"
   ]
  },
  {
   "cell_type": "markdown",
   "metadata": {},
   "source": [
    "**Extended exercise**\n",
    "You can pass functions themselves as normal variables in python (they are \"first order objects\" much like any other). One such function that is useful is the `itemgetter` function from the `operator` module. Example code to use it is below. Use this function to sort the list `people` by each person's height. Check the help for the `sorted` function."
   ]
  },
  {
   "cell_type": "code",
   "execution_count": 26,
   "metadata": {
    "attributes": {
     "classes": [],
     "id": "",
     "n": "26"
    }
   },
   "outputs": [],
   "source": [
    "from operator import itemgetter"
   ]
  },
  {
   "cell_type": "code",
   "execution_count": 27,
   "metadata": {
    "attributes": {
     "classes": [],
     "id": "",
     "n": "27"
    }
   },
   "outputs": [],
   "source": [
    "get_height = itemgetter(\"height\")  # Check help of the function"
   ]
  },
  {
   "cell_type": "code",
   "execution_count": 28,
   "metadata": {
    "attributes": {
     "classes": [],
     "id": "",
     "n": "28"
    }
   },
   "outputs": [],
   "source": [
    "people = [\n",
    "    {\"name\": \"Ed\", \"height\": 176},\n",
    "    {\"name\": 'Andrew', \"height\": 188},\n",
    "    {\"name\": 'Kath', \"height\": 170}\n",
    "]"
   ]
  },
  {
   "cell_type": "markdown",
   "metadata": {},
   "source": [
    "3. You can pass name keywords into a function using double-star on a dictionary mapping the keyword name to the keyword value. Test this by creating a dictionary of this form and calling `greet(**my_dict)`.\n",
    "\n",
    "## Lists\n",
    "\n",
    "Lists are defined by square brackets, like these:"
   ]
  },
  {
   "cell_type": "code",
   "execution_count": 19,
   "metadata": {
    "attributes": {
     "classes": [],
     "id": "",
     "n": "19"
    }
   },
   "outputs": [],
   "source": [
    "mylist1 = [1, 3, 5]\n",
    "names = ['McCain', 'Barrasso', 'Ayotte', 'Alexander', 'Akaka']"
   ]
  },
  {
   "cell_type": "code",
   "execution_count": 20,
   "metadata": {
    "attributes": {
     "classes": [],
     "id": "",
     "n": "20"
    }
   },
   "outputs": [
    {
     "data": {
      "text/plain": [
       "list"
      ]
     },
     "execution_count": 20,
     "metadata": {},
     "output_type": "execute_result"
    }
   ],
   "source": [
    "type(names)"
   ]
  },
  {
   "cell_type": "markdown",
   "metadata": {},
   "source": [
    "The ``list`` function also produces lists when passed a sequence:"
   ]
  },
  {
   "cell_type": "code",
   "execution_count": 21,
   "metadata": {
    "attributes": {
     "classes": [],
     "id": "",
     "n": "21"
    }
   },
   "outputs": [
    {
     "data": {
      "text/plain": [
       "[0, 1, 2, 3, 4, 5, 6, 7, 8, 9]"
      ]
     },
     "execution_count": 21,
     "metadata": {},
     "output_type": "execute_result"
    }
   ],
   "source": [
    "numbers = list(range(10))\n",
    "numbers"
   ]
  },
  {
   "cell_type": "markdown",
   "metadata": {},
   "source": [
    "We will come back to ``range()`` shortly when describing loops.\n",
    "\n",
    "Here's how to retrieve, add and delete items from lists:"
   ]
  },
  {
   "cell_type": "code",
   "execution_count": 22,
   "metadata": {
    "attributes": {
     "classes": [],
     "id": "",
     "n": "22"
    }
   },
   "outputs": [
    {
     "data": {
      "text/plain": [
       "['McCain', 'Barrasso', 'Ayotte', 'Alexander', 'Akaka']"
      ]
     },
     "execution_count": 22,
     "metadata": {},
     "output_type": "execute_result"
    }
   ],
   "source": [
    "names"
   ]
  },
  {
   "cell_type": "code",
   "execution_count": 23,
   "metadata": {
    "attributes": {
     "classes": [],
     "id": "",
     "n": "23"
    }
   },
   "outputs": [
    {
     "data": {
      "text/plain": [
       "'McCain'"
      ]
     },
     "execution_count": 23,
     "metadata": {},
     "output_type": "execute_result"
    }
   ],
   "source": [
    "# Retrieving items from the list\n",
    "names[0]     # The first element has index 0 !"
   ]
  },
  {
   "cell_type": "code",
   "execution_count": 24,
   "metadata": {
    "attributes": {
     "classes": [],
     "id": "",
     "n": "24"
    }
   },
   "outputs": [
    {
     "data": {
      "text/plain": [
       "'Ayotte'"
      ]
     },
     "execution_count": 24,
     "metadata": {},
     "output_type": "execute_result"
    }
   ],
   "source": [
    "names[2]     # third element"
   ]
  },
  {
   "cell_type": "code",
   "execution_count": 25,
   "metadata": {
    "attributes": {
     "classes": [],
     "id": "",
     "n": "25"
    }
   },
   "outputs": [
    {
     "data": {
      "text/plain": [
       "['Ayotte', 'Alexander', 'Akaka']"
      ]
     },
     "execution_count": 25,
     "metadata": {},
     "output_type": "execute_result"
    }
   ],
   "source": [
    "names[2:]    # a slice: multiple items: 3rd to end"
   ]
  },
  {
   "cell_type": "code",
   "execution_count": 26,
   "metadata": {
    "attributes": {
     "classes": [],
     "id": "",
     "n": "26"
    }
   },
   "outputs": [
    {
     "data": {
      "text/plain": [
       "['McCain', 'Barrasso']"
      ]
     },
     "execution_count": 26,
     "metadata": {},
     "output_type": "execute_result"
    }
   ],
   "source": [
    "names[:2]     # equivalent to exchanges[0:2]. Another slice."
   ]
  },
  {
   "cell_type": "markdown",
   "metadata": {},
   "source": [
    "Python also supports \"extended slicing\" with an optional step size. The syntax is:"
   ]
  },
  {
   "cell_type": "code",
   "execution_count": null,
   "metadata": {},
   "outputs": [],
   "source": [
    "mylist[start:stop:step]"
   ]
  },
  {
   "cell_type": "markdown",
   "metadata": {},
   "source": [
    "Not specifying a start is the same as saying \"start from the start of the list\", and not specifying a stop is the same as \"go to the end of the list\"."
   ]
  },
  {
   "cell_type": "code",
   "execution_count": 27,
   "metadata": {
    "attributes": {
     "classes": [],
     "id": "",
     "n": "27"
    }
   },
   "outputs": [
    {
     "data": {
      "text/plain": [
       "['McCain', 'Ayotte', 'Akaka']"
      ]
     },
     "execution_count": 27,
     "metadata": {},
     "output_type": "execute_result"
    }
   ],
   "source": [
    "names[::2]    # every other protocol"
   ]
  },
  {
   "cell_type": "markdown",
   "metadata": {},
   "source": [
    "Here is an easy way to reverse the order of a list:"
   ]
  },
  {
   "cell_type": "code",
   "execution_count": 28,
   "metadata": {
    "attributes": {
     "classes": [],
     "id": "",
     "n": "28"
    }
   },
   "outputs": [
    {
     "data": {
      "text/plain": [
       "['Akaka', 'Alexander', 'Ayotte', 'Barrasso', 'McCain']"
      ]
     },
     "execution_count": 28,
     "metadata": {},
     "output_type": "execute_result"
    }
   ],
   "source": [
    "names[::-1]"
   ]
  },
  {
   "cell_type": "code",
   "execution_count": 29,
   "metadata": {
    "attributes": {
     "classes": [],
     "id": "",
     "n": "29"
    }
   },
   "outputs": [
    {
     "data": {
      "text/plain": [
       "['McCain',\n",
       " 'Barrasso',\n",
       " 'Ayotte',\n",
       " 'Alexander',\n",
       " 'Akaka',\n",
       " 'Obama',\n",
       " 'Booker',\n",
       " 'Sanders',\n",
       " 'Kirk',\n",
       " 'Bennet']"
      ]
     },
     "execution_count": 29,
     "metadata": {},
     "output_type": "execute_result"
    }
   ],
   "source": [
    "# Appending items onto the end\n",
    "names.append('Obama')       # to add a single item\n",
    "names += ['Booker', 'Sanders'] # to add one or more items\n",
    "names.extend(['Kirk', 'Bennet'])  # equivalent to the above\n",
    "names"
   ]
  },
  {
   "cell_type": "code",
   "execution_count": 30,
   "metadata": {
    "attributes": {
     "classes": [],
     "id": "",
     "n": "30"
    }
   },
   "outputs": [
    {
     "data": {
      "text/plain": [
       "['Barrasso', 'Ayotte', 'Alexander']"
      ]
     },
     "execution_count": 30,
     "metadata": {},
     "output_type": "execute_result"
    }
   ],
   "source": [
    "# Deleting an item with a given index\n",
    "del names[0]\n",
    "names[0:3]"
   ]
  },
  {
   "cell_type": "code",
   "execution_count": 31,
   "metadata": {
    "attributes": {
     "classes": [],
     "id": "",
     "n": "31"
    }
   },
   "outputs": [
    {
     "data": {
      "text/plain": [
       "['Akaka', 'Obama', 'Booker', 'Sanders', 'Kirk', 'Bennet']"
      ]
     },
     "execution_count": 31,
     "metadata": {},
     "output_type": "execute_result"
    }
   ],
   "source": [
    "# Delete three more from the beginning:\n",
    "del names[:3]\n",
    "names"
   ]
  },
  {
   "cell_type": "code",
   "execution_count": 32,
   "metadata": {
    "attributes": {
     "classes": [],
     "id": "",
     "n": "32"
    }
   },
   "outputs": [
    {
     "name": "stdout",
     "output_type": "stream",
     "text": [
      "['Akaka', 'Obama', 'Booker', 'Sanders', 'Kirk']\n"
     ]
    }
   ],
   "source": [
    "del names[-1]     # delete the last item\n",
    "print(names)"
   ]
  },
  {
   "cell_type": "markdown",
   "metadata": {},
   "source": [
    "### Exercise\n",
    "\n",
    "1. Create a list of everyone's first name in the room\n",
    "2. Find the index of your name (using the ``names.index()`` method).\n",
    "3. Create an alphabetically sorted list using the ``sorted()`` function.\n",
    "4. Retrieve a list of names after yours in the alphabet.\n",
    "5. Are there are any duplicate first names?"
   ]
  },
  {
   "cell_type": "code",
   "execution_count": null,
   "metadata": {},
   "outputs": [],
   "source": [
    "# See solutions/names.py"
   ]
  },
  {
   "cell_type": "markdown",
   "metadata": {},
   "source": [
    "**Extended Exercise**\n",
    "You can index and loop over strings as if they were lists-of-characters. Using a dictionary to count, how many times does each character appear in your list?\n",
    "\n",
    "#### \"List comprehension\": a compact way of creating a list from another sequence"
   ]
  },
  {
   "cell_type": "code",
   "execution_count": 33,
   "metadata": {
    "attributes": {
     "classes": [],
     "id": "",
     "n": "33"
    }
   },
   "outputs": [],
   "source": [
    "sorted_names = sorted(names)\n",
    "sorted_indices = [sorted_names.index(name) for name in ['Akaka', 'Obama', 'Booker']]"
   ]
  },
  {
   "cell_type": "code",
   "execution_count": 34,
   "metadata": {
    "attributes": {
     "classes": [],
     "id": "",
     "n": "34"
    }
   },
   "outputs": [
    {
     "data": {
      "text/plain": [
       "[0, 3, 1]"
      ]
     },
     "execution_count": 34,
     "metadata": {},
     "output_type": "execute_result"
    }
   ],
   "source": [
    "sorted_indices"
   ]
  },
  {
   "cell_type": "code",
   "execution_count": 35,
   "metadata": {
    "attributes": {
     "classes": [],
     "id": "",
     "n": "35"
    }
   },
   "outputs": [
    {
     "data": {
      "text/plain": [
       "['AKAKA', 'OBAMA', 'BOOKER', 'SANDERS', 'KIRK']"
      ]
     },
     "execution_count": 35,
     "metadata": {},
     "output_type": "execute_result"
    }
   ],
   "source": [
    "bignames = [name.upper() for name in names]\n",
    "bignames"
   ]
  },
  {
   "cell_type": "markdown",
   "metadata": {},
   "source": [
    "## Loops\n",
    "\n",
    "Loops are blocks of code run repeatedly, introduced by ``for`` (most often) or ``while``:\n",
    "\n",
    "### Looping through sequences\n",
    "\n",
    "Here is how we loop through an iterable sequence such as a list (or file or set ...):"
   ]
  },
  {
   "cell_type": "code",
   "execution_count": 36,
   "metadata": {
    "attributes": {
     "classes": [],
     "id": "",
     "n": "36"
    }
   },
   "outputs": [
    {
     "name": "stdout",
     "output_type": "stream",
     "text": [
      "Akaka\n",
      "Obama\n",
      "Booker\n",
      "Sanders\n",
      "Kirk\n"
     ]
    }
   ],
   "source": [
    "for name in names:\n",
    "    print(name)"
   ]
  },
  {
   "cell_type": "markdown",
   "metadata": {},
   "source": [
    "### How to loop $n$ times\n",
    "\n",
    "Use the ``range()`` function to loop several times:"
   ]
  },
  {
   "cell_type": "code",
   "execution_count": 37,
   "metadata": {
    "attributes": {
     "classes": [],
     "id": "",
     "n": "37"
    }
   },
   "outputs": [
    {
     "name": "stdout",
     "output_type": "stream",
     "text": [
      "0\n",
      "1\n",
      "2\n",
      "3\n",
      "4\n"
     ]
    }
   ],
   "source": [
    "n = 5\n",
    "for index in range(n):\n",
    "    print(index)"
   ]
  },
  {
   "cell_type": "markdown",
   "metadata": {},
   "source": [
    "Now look at the parameters (called arguments) that the range function can take. Try this in IPython:"
   ]
  },
  {
   "cell_type": "code",
   "execution_count": 38,
   "metadata": {
    "attributes": {
     "classes": [],
     "id": "",
     "n": "38"
    }
   },
   "outputs": [],
   "source": [
    "range?"
   ]
  },
  {
   "cell_type": "markdown",
   "metadata": {},
   "source": [
    "This brings up the \"docstring\" for the ``range`` function. If not using IPython, you can do this:"
   ]
  },
  {
   "cell_type": "code",
   "execution_count": 39,
   "metadata": {
    "attributes": {
     "classes": [],
     "id": "",
     "n": "39"
    }
   },
   "outputs": [
    {
     "name": "stdout",
     "output_type": "stream",
     "text": [
      "range(stop) -> range object\n",
      "range(start, stop[, step]) -> range object\n",
      "\n",
      "Return an object that produces a sequence of integers from start (inclusive)\n",
      "to stop (exclusive) by step.  range(i, j) produces i, i+1, i+2, ..., j-1.\n",
      "start defaults to 0, and stop is omitted!  range(4) produces 0, 1, 2, 3.\n",
      "These are exactly the valid indices for a list of 4 elements.\n",
      "When step is given, it specifies the increment (or decrement).\n"
     ]
    }
   ],
   "source": [
    "print(range.__doc__)"
   ]
  },
  {
   "cell_type": "markdown",
   "metadata": {},
   "source": [
    "We can see the values in the range by turning it into a concrete list:"
   ]
  },
  {
   "cell_type": "code",
   "execution_count": 40,
   "metadata": {
    "attributes": {
     "classes": [],
     "id": "",
     "n": "40"
    }
   },
   "outputs": [
    {
     "data": {
      "text/plain": [
       "[5, 6, 7, 8, 9]"
      ]
     },
     "execution_count": 40,
     "metadata": {},
     "output_type": "execute_result"
    }
   ],
   "source": [
    "list(range(5, 10))"
   ]
  },
  {
   "cell_type": "markdown",
   "metadata": {},
   "source": [
    "Notice that the endpoint is *excluded*. The number of items returned by ``range(start, stop)`` is ``stop - start``.\n",
    "\n",
    "### Exercise: powers of 2\n",
    "\n",
    "Loop through the first 64 powers of 2 starting at 0. Print them, one per line, like this:"
   ]
  },
  {
   "cell_type": "code",
   "execution_count": null,
   "metadata": {},
   "outputs": [],
   "source": [
    "2**0 = 1\n",
    "2**1 = 2\n",
    "2**2 = 4\n",
    "2**3 = 8\n",
    "..."
   ]
  },
  {
   "cell_type": "markdown",
   "metadata": {},
   "source": [
    "Here is a less common kind of loop with ``while``:"
   ]
  },
  {
   "cell_type": "code",
   "execution_count": 41,
   "metadata": {
    "attributes": {
     "classes": [],
     "id": "",
     "n": "41"
    }
   },
   "outputs": [
    {
     "name": "stdout",
     "output_type": "stream",
     "text": [
      "100\n",
      "50\n",
      "25\n",
      "12\n",
      "6\n",
      "3\n",
      "1\n",
      "Finished!\n"
     ]
    }
   ],
   "source": [
    "i = 100\n",
    "while i > 0:\n",
    "    print(i)\n",
    "    i //= 2         # equivalent to i = i // 2   (integer division)\n",
    "print(\"Finished!\")"
   ]
  },
  {
   "cell_type": "markdown",
   "metadata": {},
   "source": [
    "### Indentation\n",
    "\n",
    "Note that indentation controls the flow in Python. Compare the following two ``for`` loops and notice the different behaviour:"
   ]
  },
  {
   "cell_type": "code",
   "execution_count": 42,
   "metadata": {
    "attributes": {
     "classes": [],
     "id": "",
     "n": "42"
    }
   },
   "outputs": [
    {
     "name": "stdout",
     "output_type": "stream",
     "text": [
      "AKAKA\n",
      "OBAMA\n",
      "BOOKER\n",
      "SANDERS\n",
      "KIRK\n"
     ]
    }
   ],
   "source": [
    "for name in names:\n",
    "    name_upper = name.upper()    # uppercase\n",
    "    print(name_upper)"
   ]
  },
  {
   "cell_type": "code",
   "execution_count": 43,
   "metadata": {
    "attributes": {
     "classes": [],
     "id": "",
     "n": "43"
    }
   },
   "outputs": [
    {
     "name": "stdout",
     "output_type": "stream",
     "text": [
      "KIRK\n"
     ]
    }
   ],
   "source": [
    "for name in names:\n",
    "    name_upper = name.upper()    # uppercase\n",
    "print(name_upper)"
   ]
  },
  {
   "cell_type": "markdown",
   "metadata": {},
   "source": [
    "### List comprehensions\n",
    "A 'list comprehension' is a compact piece of syntax to create a list in one line. It has a for loop inside the list square brackets, like this:"
   ]
  },
  {
   "cell_type": "code",
   "execution_count": 44,
   "metadata": {
    "attributes": {
     "classes": [],
     "id": "",
     "n": "44"
    }
   },
   "outputs": [
    {
     "data": {
      "text/plain": [
       "[0, 1, 4, 9, 16, 25, 36, 49, 64, 81]"
      ]
     },
     "execution_count": 44,
     "metadata": {},
     "output_type": "execute_result"
    }
   ],
   "source": [
    "squares = [number**2 for number in range(10)]\n",
    "squares"
   ]
  },
  {
   "cell_type": "code",
   "execution_count": 61,
   "metadata": {
    "attributes": {
     "classes": [],
     "id": "",
     "n": "61"
    }
   },
   "outputs": [
    {
     "data": {
      "text/plain": [
       "['SZSE', 'TWSE']"
      ]
     },
     "execution_count": 61,
     "metadata": {},
     "output_type": "execute_result"
    }
   ],
   "source": [
    "names_upper = [name.upper() for name in names if len(name) == 4]\n",
    "names_upper"
   ]
  },
  {
   "cell_type": "markdown",
   "metadata": {},
   "source": [
    "### Exercise\n",
    "\n",
    "1. Loop through each of the names, and only print out the name if it starts with an A\n",
    "2. Loop through each of the names, and only print them out if their name *doesn't* start with an A\n",
    "3. Update your code to return a list of the names that don't start with an A, instead of printing them out.\n",
    "\n",
    "**Hint:** You can get the first letter of a string using `word[0]`. Also, remember to indent the lines. You'll need one indent for the loop, and another for the if conditional.\n",
    "\n",
    "**Extended exercise**\n",
    "Repeat the exercises with a list comprehension instead of a for loop.\n",
    "\n",
    "## Dictionaries\n",
    "Dictionaries map from keys to values, must like how a phone book maps someone's name to their phone number.\n",
    "\n",
    "This is how we look up values in a dictionary: through the key"
   ]
  },
  {
   "cell_type": "code",
   "execution_count": 69,
   "metadata": {
    "attributes": {
     "classes": [],
     "id": "",
     "n": "69"
    }
   },
   "outputs": [
    {
     "data": {
      "text/plain": [
       "176"
      ]
     },
     "execution_count": 69,
     "metadata": {},
     "output_type": "execute_result"
    }
   ],
   "source": [
    "heights = {'Ed': 176, 'Andrew': 188, 'Kath': 170}\n",
    "heights['Ed']    # Get the value corresponding to the \"Ed\" key"
   ]
  },
  {
   "cell_type": "code",
   "execution_count": 70,
   "metadata": {
    "attributes": {
     "classes": [],
     "id": "",
     "n": "70"
    }
   },
   "outputs": [],
   "source": [
    "heights['Robert'] = 180  # Add a new entry"
   ]
  },
  {
   "cell_type": "code",
   "execution_count": 71,
   "metadata": {
    "attributes": {
     "classes": [],
     "id": "",
     "n": "71"
    }
   },
   "outputs": [
    {
     "data": {
      "text/plain": [
       "{'Andrew': 188, 'Ed': 176, 'Kath': 170, 'Robert': 180}"
      ]
     },
     "execution_count": 71,
     "metadata": {},
     "output_type": "execute_result"
    }
   ],
   "source": [
    "heights"
   ]
  },
  {
   "cell_type": "markdown",
   "metadata": {},
   "source": [
    "Dicts all have these important 'methods': keys(), values(), items().\n",
    "\n",
    "Dicts have no concept of order, so the order of the outputs of these is unpredictable. (The order is, however, at least consistent for the three.)"
   ]
  },
  {
   "cell_type": "code",
   "execution_count": 72,
   "metadata": {
    "attributes": {
     "classes": [],
     "id": "",
     "n": "72"
    }
   },
   "outputs": [
    {
     "data": {
      "text/plain": [
       "dict_keys(['Ed', 'Andrew', 'Kath', 'Robert'])"
      ]
     },
     "execution_count": 72,
     "metadata": {},
     "output_type": "execute_result"
    }
   ],
   "source": [
    "heights.keys()"
   ]
  },
  {
   "cell_type": "code",
   "execution_count": 73,
   "metadata": {
    "attributes": {
     "classes": [],
     "id": "",
     "n": "73"
    }
   },
   "outputs": [
    {
     "data": {
      "text/plain": [
       "dict_values([176, 188, 170, 180])"
      ]
     },
     "execution_count": 73,
     "metadata": {},
     "output_type": "execute_result"
    }
   ],
   "source": [
    "heights.values()"
   ]
  },
  {
   "cell_type": "code",
   "execution_count": 74,
   "metadata": {
    "attributes": {
     "classes": [],
     "id": "",
     "n": "74"
    }
   },
   "outputs": [
    {
     "data": {
      "text/plain": [
       "dict_items([('Ed', 176), ('Andrew', 188), ('Kath', 170), ('Robert', 180)])"
      ]
     },
     "execution_count": 74,
     "metadata": {},
     "output_type": "execute_result"
    }
   ],
   "source": [
    "heights.items()"
   ]
  },
  {
   "cell_type": "code",
   "execution_count": 75,
   "metadata": {
    "attributes": {
     "classes": [],
     "id": "",
     "n": "75"
    }
   },
   "outputs": [
    {
     "data": {
      "text/plain": [
       "4"
      ]
     },
     "execution_count": 75,
     "metadata": {},
     "output_type": "execute_result"
    }
   ],
   "source": [
    "len(heights)   # number of keys == number of values == number of items"
   ]
  },
  {
   "cell_type": "markdown",
   "metadata": {},
   "source": [
    "### How to loop through dicts:"
   ]
  },
  {
   "cell_type": "code",
   "execution_count": 76,
   "metadata": {
    "attributes": {
     "classes": [],
     "id": "",
     "n": "76"
    }
   },
   "outputs": [
    {
     "name": "stdout",
     "output_type": "stream",
     "text": [
      "Ed 176\n",
      "Andrew 188\n",
      "Kath 170\n",
      "Robert 180\n"
     ]
    }
   ],
   "source": [
    "# Method 1\n",
    "for key in heights:  # equivalent to: `for key in heights.keys():`\n",
    "    # do something with key and mydict[key]\n",
    "    # e.g.\n",
    "    print(key, heights[key])"
   ]
  },
  {
   "cell_type": "code",
   "execution_count": 77,
   "metadata": {
    "attributes": {
     "classes": [],
     "id": "",
     "n": "77"
    }
   },
   "outputs": [
    {
     "name": "stdout",
     "output_type": "stream",
     "text": [
      "Ed 176\n",
      "Andrew 188\n",
      "Kath 170\n",
      "Robert 180\n"
     ]
    }
   ],
   "source": [
    "# Method 2\n",
    "for (key, value) in heights.items():\n",
    "    # do something with key and value\n",
    "    # e.g.\n",
    "    print(key, value)"
   ]
  },
  {
   "cell_type": "markdown",
   "metadata": {},
   "source": [
    "Warning: The order of dictionaries can't be guaranteed.\n",
    "\n",
    "**Exercise - Dictionaries**\n",
    "\n",
    "1. Create a dictionary that has the capital city of a few different countries.\n",
    "2. Loop through the dictionary, and print out the capital for each country\n",
    "\n",
    "**Extended Exercise - Dictionaries**\n",
    "\n",
    "Create a dictionary inverting function, that takes a dictionary as input, and swaps keys and values around. For instance, the heights dictionary would be inverted to:\n",
    "\n",
    "`{188:'Andrew', 176:'Ed', 170:'Kath', 180:'Robert'}`\n",
    "\n",
    "Update the code to deal with the possibility that there can be two (or more) keys mapping to the same value."
   ]
  },
  {
   "cell_type": "code",
   "execution_count": 78,
   "metadata": {
    "attributes": {
     "classes": [],
     "id": "",
     "n": "78"
    }
   },
   "outputs": [],
   "source": [
    "# See solutions/capitals.py"
   ]
  },
  {
   "cell_type": "markdown",
   "metadata": {},
   "source": [
    "## Strings\n",
    "\n",
    "Strings are created by the use of quotes, and are list-like structures that have additional properties."
   ]
  },
  {
   "cell_type": "code",
   "execution_count": 79,
   "metadata": {
    "attributes": {
     "classes": [],
     "id": "",
     "n": "79"
    }
   },
   "outputs": [],
   "source": [
    "my_string = \"Python is awesome!\""
   ]
  },
  {
   "cell_type": "code",
   "execution_count": 80,
   "metadata": {
    "attributes": {
     "classes": [],
     "id": "",
     "n": "80"
    }
   },
   "outputs": [
    {
     "data": {
      "text/plain": [
       "str"
      ]
     },
     "execution_count": 80,
     "metadata": {},
     "output_type": "execute_result"
    }
   ],
   "source": [
    "type(my_string)"
   ]
  },
  {
   "cell_type": "code",
   "execution_count": 81,
   "metadata": {
    "attributes": {
     "classes": [],
     "id": "",
     "n": "81"
    }
   },
   "outputs": [
    {
     "data": {
      "text/plain": [
       "18"
      ]
     },
     "execution_count": 81,
     "metadata": {},
     "output_type": "execute_result"
    }
   ],
   "source": [
    "len(my_string)"
   ]
  },
  {
   "cell_type": "markdown",
   "metadata": {},
   "source": [
    "Compared to other languages, there is no \"char\" data type in python, its just a string with length one:"
   ]
  },
  {
   "cell_type": "code",
   "execution_count": 82,
   "metadata": {
    "attributes": {
     "classes": [],
     "id": "",
     "n": "82"
    }
   },
   "outputs": [],
   "source": [
    "letter = my_string[0]"
   ]
  },
  {
   "cell_type": "code",
   "execution_count": 83,
   "metadata": {
    "attributes": {
     "classes": [],
     "id": "",
     "n": "83"
    }
   },
   "outputs": [
    {
     "data": {
      "text/plain": [
       "('P', str, 1)"
      ]
     },
     "execution_count": 83,
     "metadata": {},
     "output_type": "execute_result"
    }
   ],
   "source": [
    "letter, type(letter), len(letter)"
   ]
  },
  {
   "cell_type": "markdown",
   "metadata": {},
   "source": [
    "Let's read in a text file to get a long list of words:"
   ]
  },
  {
   "cell_type": "code",
   "execution_count": 84,
   "metadata": {
    "attributes": {
     "classes": [],
     "id": "",
     "n": "84"
    }
   },
   "outputs": [],
   "source": [
    "with open(\"/data/alice_in_wonderland.txt\") as f:  # Create a file pointer called f\n",
    "    text = f.read()"
   ]
  },
  {
   "cell_type": "code",
   "execution_count": 85,
   "metadata": {
    "attributes": {
     "classes": [],
     "id": "",
     "n": "85"
    }
   },
   "outputs": [
    {
     "data": {
      "text/plain": [
       "(str, 144410)"
      ]
     },
     "execution_count": 85,
     "metadata": {},
     "output_type": "execute_result"
    }
   ],
   "source": [
    "type(text), len(text)"
   ]
  },
  {
   "cell_type": "code",
   "execution_count": 86,
   "metadata": {
    "attributes": {
     "classes": [],
     "id": "",
     "n": "86"
    }
   },
   "outputs": [],
   "source": [
    "text_lower = text.lower()  # Convert everything to lowercase"
   ]
  },
  {
   "cell_type": "code",
   "execution_count": 87,
   "metadata": {
    "attributes": {
     "classes": [],
     "id": "",
     "n": "87"
    }
   },
   "outputs": [
    {
     "data": {
      "text/plain": [
       "8791"
      ]
     },
     "execution_count": 87,
     "metadata": {},
     "output_type": "execute_result"
    }
   ],
   "source": [
    "text_lower.count(\"a\")  # how many times this letter appears"
   ]
  },
  {
   "cell_type": "code",
   "execution_count": 88,
   "metadata": {
    "attributes": {
     "classes": [],
     "id": "",
     "n": "88"
    }
   },
   "outputs": [
    {
     "data": {
      "text/plain": [
       "{'\\n',\n",
       " ' ',\n",
       " '!',\n",
       " '\"',\n",
       " \"'\",\n",
       " '(',\n",
       " ')',\n",
       " '*',\n",
       " ',',\n",
       " '-',\n",
       " '.',\n",
       " ':',\n",
       " ';',\n",
       " '?',\n",
       " '[',\n",
       " ']',\n",
       " '_',\n",
       " 'a',\n",
       " 'b',\n",
       " 'c',\n",
       " 'd',\n",
       " 'e',\n",
       " 'f',\n",
       " 'g',\n",
       " 'h',\n",
       " 'i',\n",
       " 'j',\n",
       " 'k',\n",
       " 'l',\n",
       " 'm',\n",
       " 'n',\n",
       " 'o',\n",
       " 'p',\n",
       " 'q',\n",
       " 'r',\n",
       " 's',\n",
       " 't',\n",
       " 'u',\n",
       " 'v',\n",
       " 'w',\n",
       " 'x',\n",
       " 'y',\n",
       " 'z'}"
      ]
     },
     "execution_count": 88,
     "metadata": {},
     "output_type": "execute_result"
    }
   ],
   "source": [
    "set(text_lower)  # The unique characters in the string"
   ]
  },
  {
   "cell_type": "markdown",
   "metadata": {},
   "source": [
    "### Presence of a substring\n",
    "\n",
    "You can test whether one contains another using the ``in`` operator:"
   ]
  },
  {
   "cell_type": "code",
   "execution_count": 89,
   "metadata": {
    "attributes": {
     "classes": [],
     "id": "",
     "n": "89"
    }
   },
   "outputs": [
    {
     "data": {
      "text/plain": [
       "True"
      ]
     },
     "execution_count": 89,
     "metadata": {},
     "output_type": "execute_result"
    }
   ],
   "source": [
    "'de' in 'abcdefg'"
   ]
  },
  {
   "cell_type": "code",
   "execution_count": 90,
   "metadata": {
    "attributes": {
     "classes": [],
     "id": "",
     "n": "90"
    }
   },
   "outputs": [
    {
     "data": {
      "text/plain": [
       "False"
      ]
     },
     "execution_count": 90,
     "metadata": {},
     "output_type": "execute_result"
    }
   ],
   "source": [
    "'ag' in 'abcdefg'"
   ]
  },
  {
   "cell_type": "code",
   "execution_count": 91,
   "metadata": {
    "attributes": {
     "classes": [],
     "id": "",
     "n": "91"
    }
   },
   "outputs": [
    {
     "data": {
      "text/plain": [
       "True"
      ]
     },
     "execution_count": 91,
     "metadata": {},
     "output_type": "execute_result"
    }
   ],
   "source": [
    "'!' not in 'abcdefg'"
   ]
  },
  {
   "cell_type": "markdown",
   "metadata": {},
   "source": [
    "String objects also have a variety of useful methods. You can list these in IPython by using tab completion:"
   ]
  },
  {
   "cell_type": "code",
   "execution_count": 92,
   "metadata": {
    "attributes": {
     "classes": [],
     "id": "",
     "n": "92"
    }
   },
   "outputs": [],
   "source": [
    "s = 'Some string'"
   ]
  },
  {
   "cell_type": "code",
   "execution_count": null,
   "metadata": {},
   "outputs": [],
   "source": [
    "s.<TAB>     # hit the TAB key"
   ]
  },
  {
   "cell_type": "markdown",
   "metadata": {},
   "source": [
    "Here is a list of string methods:\n",
    "\n",
    "capitalize\n",
    "casefold\n",
    "center\n",
    "count\n",
    "encode\n",
    "endswith\n",
    "expandtabs\n",
    "find\n",
    "format\n",
    "format_map\n",
    "index\n",
    "isalnum\n",
    "isalpha\n",
    "isdecimal\n",
    "isdigit\n",
    "isidentifier\n",
    "islower\n",
    "isnumeric\n",
    "isprintable\n",
    "isspace\n",
    "istitle\n",
    "isupper\n",
    "join\n",
    "ljust\n",
    "lower\n",
    "lstrip\n",
    "maketrans\n",
    "partition\n",
    "replace\n",
    "rfind\n",
    "rindex\n",
    "rjust\n",
    "rpartition\n",
    "rsplit\n",
    "rstrip\n",
    "split\n",
    "splitlines\n",
    "startswith\n",
    "strip\n",
    "swapcase\n",
    "title\n",
    "translate\n",
    "upper\n",
    "zfill\n",
    "\n",
    "To get help on any one of them, use the ``help()`` function or a trailing ``?`` in IPython:"
   ]
  },
  {
   "cell_type": "code",
   "execution_count": 95,
   "metadata": {
    "attributes": {
     "classes": [],
     "id": "",
     "n": "95"
    }
   },
   "outputs": [
    {
     "name": "stdout",
     "output_type": "stream",
     "text": [
      "Help on built-in function split:\n",
      "\n",
      "split(...) method of builtins.str instance\n",
      "    S.split(sep=None, maxsplit=-1) -> list of strings\n",
      "    \n",
      "    Return a list of the words in S, using sep as the\n",
      "    delimiter string.  If maxsplit is given, at most maxsplit\n",
      "    splits are done. If sep is not specified or is None, any\n",
      "    whitespace string is a separator and empty strings are\n",
      "    removed from the result.\n",
      "\n"
     ]
    }
   ],
   "source": [
    "help(s.split)"
   ]
  },
  {
   "cell_type": "markdown",
   "metadata": {},
   "source": [
    "String \"literals\" can be introduced in two other main ways: with an `r` prefix (raw strings) and with a triple quote (multiline string). Here are some examples:"
   ]
  },
  {
   "cell_type": "code",
   "execution_count": 81,
   "metadata": {
    "attributes": {
     "classes": [],
     "id": "",
     "n": "81"
    }
   },
   "outputs": [
    {
     "name": "stdout",
     "output_type": "stream",
     "text": [
      "C:\\Documents and Settings\n",
      "orman\n"
     ]
    }
   ],
   "source": [
    "broken_path = 'C:\\Documents and Settings\\norman'\n",
    "print(broken_path)"
   ]
  },
  {
   "cell_type": "code",
   "execution_count": 82,
   "metadata": {
    "attributes": {
     "classes": [],
     "id": "",
     "n": "82"
    }
   },
   "outputs": [
    {
     "name": "stdout",
     "output_type": "stream",
     "text": [
      "C:\\Documents and Settings\\norman\n"
     ]
    }
   ],
   "source": [
    "# To avoid needing double backslashes to \"escape\" them, use an\n",
    "# r prefix:\n",
    "path = r'C:\\Documents and Settings\\norman'\n",
    "print(path)"
   ]
  },
  {
   "cell_type": "code",
   "execution_count": 83,
   "metadata": {
    "attributes": {
     "classes": [],
     "id": "",
     "n": "83"
    }
   },
   "outputs": [],
   "source": [
    "# A multiline string:\n",
    "names = '''\n",
    "Fred\n",
    "George\n",
    "Alice\n",
    "Wen Lu\n",
    "Alexei\n",
    "'''"
   ]
  },
  {
   "cell_type": "code",
   "execution_count": 84,
   "metadata": {
    "attributes": {
     "classes": [],
     "id": "",
     "n": "84"
    }
   },
   "outputs": [
    {
     "data": {
      "text/plain": [
       "'\\nFred\\nGeorge\\nAlice\\nWen Lu\\nAlexei\\n'"
      ]
     },
     "execution_count": 84,
     "metadata": {},
     "output_type": "execute_result"
    }
   ],
   "source": [
    "names"
   ]
  },
  {
   "cell_type": "code",
   "execution_count": 85,
   "metadata": {
    "attributes": {
     "classes": [],
     "id": "",
     "n": "85"
    }
   },
   "outputs": [
    {
     "data": {
      "text/plain": [
       "'Fred\\nGeorge\\nAlice\\nWen Lu\\nAlexei'"
      ]
     },
     "execution_count": 85,
     "metadata": {},
     "output_type": "execute_result"
    }
   ],
   "source": [
    "# The `strip` method of strings is useful for removing any leading and\n",
    "# trailing whitespace characters:\n",
    "names.strip()"
   ]
  },
  {
   "cell_type": "markdown",
   "metadata": {},
   "source": [
    "### Exercises: String methods\n",
    "Find the right string methods for the following:\n",
    "\n",
    "1. Convert the string ``'great britain'`` to upper case and title case (``Great Britain``).\n",
    "2. Split this string into a list of words:"
   ]
  },
  {
   "cell_type": "code",
   "execution_count": null,
   "metadata": {},
   "outputs": [],
   "source": [
    "logline = 'String splitting can be done via the split method.'"
   ]
  },
  {
   "cell_type": "markdown",
   "metadata": {},
   "source": [
    "3. Test whether the string contains any words beginning with ``s`` and ending with ``ing:``.\n",
    "4. Use list indexing to obtain a list of bi-grams, i.e. pairs of words occuring next to each other. The first bi-gram in the sentence is `[\"String\", \"splitting\"]`."
   ]
  },
  {
   "cell_type": "code",
   "execution_count": null,
   "metadata": {},
   "outputs": [],
   "source": [
    "# See solutions/string_splitting.py"
   ]
  },
  {
   "cell_type": "markdown",
   "metadata": {},
   "source": [
    "### Extended exercise: creating your own string function\n",
    "\n",
    "1. Create a function that extracts bi-grams from any given string.\n",
    "2. Extend the function to take a parameter, n, which is the length of n-gram to extract. For instance, giving `n=3` will return tri-grams (length 3), such as `[\"String\", \"splitting\", \"can\"]`."
   ]
  },
  {
   "cell_type": "code",
   "execution_count": null,
   "metadata": {},
   "outputs": [],
   "source": [
    "# See solutions/ngrams.py"
   ]
  },
  {
   "cell_type": "markdown",
   "metadata": {},
   "source": [
    "## Exceptions\n",
    "\n",
    "Sometimes your program doesn't work the way you intended, or you want to call attention to something wrong. You can use exceptions to do this.\n",
    "\n",
    "For example, our height conversion function from earlier shouldn't really accept inches values above 12, but it does."
   ]
  },
  {
   "cell_type": "code",
   "execution_count": 88,
   "metadata": {
    "attributes": {
     "classes": [],
     "id": "",
     "n": "88"
    }
   },
   "outputs": [],
   "source": [
    "def convert_height(feet, inches=0):\n",
    "    total_inches = 12 * feet + inches\n",
    "    return total_inches * 2.54"
   ]
  },
  {
   "cell_type": "code",
   "execution_count": 89,
   "metadata": {
    "attributes": {
     "classes": [],
     "id": "",
     "n": "89"
    }
   },
   "outputs": [
    {
     "data": {
      "text/plain": [
       "162.56"
      ]
     },
     "execution_count": 89,
     "metadata": {},
     "output_type": "execute_result"
    }
   ],
   "source": [
    "feet = 4\n",
    "inches = 16\n",
    "convert_height(feet, inches)"
   ]
  },
  {
   "cell_type": "markdown",
   "metadata": {},
   "source": [
    "We can throw an exception in the case where the number of inches is more than 12 -- this will alert the user into needing to convert their data into a better format."
   ]
  },
  {
   "cell_type": "code",
   "execution_count": 90,
   "metadata": {
    "attributes": {
     "classes": [],
     "id": "",
     "n": "90"
    }
   },
   "outputs": [],
   "source": [
    "def convert_height(feet, inches=0):\n",
    "    if inches >= 12:\n",
    "        raise ValueError(\"Inches should be less than 12.\")\n",
    "    total_inches = 12 * feet + inches\n",
    "    return total_inches * 2.54"
   ]
  },
  {
   "cell_type": "code",
   "execution_count": 91,
   "metadata": {
    "attributes": {
     "classes": [],
     "id": "",
     "n": "91"
    }
   },
   "outputs": [
    {
     "ename": "ValueError",
     "evalue": "Inches should be less than 12.",
     "output_type": "error",
     "traceback": [
      "\u001b[1;31m---------------------------------------------------------------------------\u001b[0m",
      "\u001b[1;31mValueError\u001b[0m                                Traceback (most recent call last)",
      "\u001b[1;32m<ipython-input-91-dac35875b5e0>\u001b[0m in \u001b[0;36m<module>\u001b[1;34m()\u001b[0m\n\u001b[1;32m----> 1\u001b[1;33m \u001b[0mconvert_height\u001b[0m\u001b[1;33m(\u001b[0m\u001b[1;36m5\u001b[0m\u001b[1;33m,\u001b[0m \u001b[1;36m16\u001b[0m\u001b[1;33m)\u001b[0m\u001b[1;33m\u001b[0m\u001b[0m\n\u001b[0m\u001b[0;32m      2\u001b[0m \u001b[0mconvert_height\u001b[0m\u001b[1;33m(\u001b[0m\u001b[1;36m5\u001b[0m\u001b[1;33m,\u001b[0m \u001b[1;36m6\u001b[0m\u001b[1;33m)\u001b[0m\u001b[1;33m\u001b[0m\u001b[0m\n",
      "\u001b[1;32m<ipython-input-90-b72955683a2c>\u001b[0m in \u001b[0;36mconvert_height\u001b[1;34m(feet, inches)\u001b[0m\n\u001b[0;32m      1\u001b[0m \u001b[1;32mdef\u001b[0m \u001b[0mconvert_height\u001b[0m\u001b[1;33m(\u001b[0m\u001b[0mfeet\u001b[0m\u001b[1;33m,\u001b[0m \u001b[0minches\u001b[0m\u001b[1;33m=\u001b[0m\u001b[1;36m0\u001b[0m\u001b[1;33m)\u001b[0m\u001b[1;33m:\u001b[0m\u001b[1;33m\u001b[0m\u001b[0m\n\u001b[0;32m      2\u001b[0m     \u001b[1;32mif\u001b[0m \u001b[0minches\u001b[0m \u001b[1;33m>=\u001b[0m \u001b[1;36m12\u001b[0m\u001b[1;33m:\u001b[0m\u001b[1;33m\u001b[0m\u001b[0m\n\u001b[1;32m----> 3\u001b[1;33m         \u001b[1;32mraise\u001b[0m \u001b[0mValueError\u001b[0m\u001b[1;33m(\u001b[0m\u001b[1;34m\"Inches should be less than 12.\"\u001b[0m\u001b[1;33m)\u001b[0m\u001b[1;33m\u001b[0m\u001b[0m\n\u001b[0m\u001b[0;32m      4\u001b[0m     \u001b[0mtotal_inches\u001b[0m \u001b[1;33m=\u001b[0m \u001b[1;36m12\u001b[0m \u001b[1;33m*\u001b[0m \u001b[0mfeet\u001b[0m \u001b[1;33m+\u001b[0m \u001b[0minches\u001b[0m\u001b[1;33m\u001b[0m\u001b[0m\n\u001b[0;32m      5\u001b[0m     \u001b[1;32mreturn\u001b[0m \u001b[0mtotal_inches\u001b[0m \u001b[1;33m*\u001b[0m \u001b[1;36m2.54\u001b[0m\u001b[1;33m\u001b[0m\u001b[0m\n",
      "\u001b[1;31mValueError\u001b[0m: Inches should be less than 12."
     ]
    }
   ],
   "source": [
    "convert_height(5, 16)\n",
    "convert_height(5, 6)"
   ]
  },
  {
   "cell_type": "markdown",
   "metadata": {},
   "source": [
    "Exceptions will stop your code running, so the second line above wasn't even run. We can *catch* exceptions, if we expect them and know what to do with them:\n",
    "\n",
    "You can see a list of all of the built-in exception types in the official Python documentation: https://docs.python.org/3/library/exceptions.html"
   ]
  },
  {
   "cell_type": "code",
   "execution_count": 92,
   "metadata": {
    "attributes": {
     "classes": [],
     "id": "",
     "n": "92"
    }
   },
   "outputs": [
    {
     "name": "stdout",
     "output_type": "stream",
     "text": [
      "I shouldn't have done that\n"
     ]
    }
   ],
   "source": [
    "try:\n",
    "    convert_height(5, 16)\n",
    "except ValueError:\n",
    "    print(\"I shouldn't have done that\")"
   ]
  },
  {
   "cell_type": "markdown",
   "metadata": {},
   "source": [
    "### Exercises\n",
    "\n",
    "1. As our function computes heights, it doesn't make sense for the values to be negative. Raise an exception if the given parameters are negative.\n",
    "2. It may be possible to have a negative inches value. In other words, \"5 feet, minus 2 inches\" would mean the height of someone who is two inches shorter than 5 feet tall. Change the exception to only be raised if the total height is negative.\n",
    "\n",
    "\n",
    "### Extended Exercises\n",
    "\n",
    "Investigate using `type(my_variable)` to determine whether the user has entered a number of not. If they haven't entered a number, try convert it to a number using `float(my_varaible)`. If that fails, raise an Exception of an appropriate type."
   ]
  }
 ],
 "metadata": {},
 "nbformat": 4,
 "nbformat_minor": 2
}
