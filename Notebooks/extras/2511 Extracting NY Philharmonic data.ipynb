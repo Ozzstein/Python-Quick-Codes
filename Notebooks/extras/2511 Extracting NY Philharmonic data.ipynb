{
 "cells": [
  {
   "cell_type": "markdown",
   "metadata": {},
   "source": [
    "# Plotly"
   ]
  },
  {
   "cell_type": "code",
   "execution_count": null,
   "metadata": {
    "collapsed": false
   },
   "outputs": [],
   "source": [
    "!pip install plotly"
   ]
  },
  {
   "cell_type": "markdown",
   "metadata": {},
   "source": [
    "## Extracting the NY Philharmonic data"
   ]
  },
  {
   "cell_type": "code",
   "execution_count": 13,
   "metadata": {
    "collapsed": false
   },
   "outputs": [
    {
     "data": {
      "text/plain": [
       "'/Users/schofield/Install/BleedingEdge/PerformanceHistory/Scripts'"
      ]
     },
     "execution_count": 13,
     "metadata": {},
     "output_type": "execute_result"
    }
   ],
   "source": [
    "%pwd"
   ]
  },
  {
   "cell_type": "code",
   "execution_count": 1,
   "metadata": {
    "collapsed": false
   },
   "outputs": [
    {
     "data": {
      "text/plain": [
       "2"
      ]
     },
     "execution_count": 1,
     "metadata": {},
     "output_type": "execute_result"
    }
   ],
   "source": [
    "1 + 1"
   ]
  },
  {
   "cell_type": "code",
   "execution_count": 4,
   "metadata": {
    "collapsed": false
   },
   "outputs": [],
   "source": [
    "!ln -s /Users/schofield/Install/BleedingEdge/PerformanceHistory ny_phil_data"
   ]
  },
  {
   "cell_type": "code",
   "execution_count": 5,
   "metadata": {
    "collapsed": false
   },
   "outputs": [],
   "source": [
    "# %load composer_frequency.py\n",
    "#import modules\n",
    "from __future__ import division\n",
    "from sys import argv\n",
    "import re\n",
    "from collections import Counter\n",
    "import matplotlib.pyplot as plt\n",
    "import xml.etree.ElementTree as ET\n",
    "import sqlite3\n",
    "# import MySQLdb\n",
    "\n",
    "#create xml collection of \"docs\" (i.e., programs in NYPhil's definition)\n",
    "# tree = ET.parse('../Programs/complete.xml')\n",
    "tree = ET.parse('ny_phil_data/Programs/2011-12_TO_NOW.xml')\n",
    "root = tree.getroot()\n",
    "concerts = root.findall('program')"
   ]
  },
  {
   "cell_type": "code",
   "execution_count": null,
   "metadata": {
    "collapsed": false
   },
   "outputs": [],
   "source": [
    "# concerts"
   ]
  },
  {
   "cell_type": "code",
   "execution_count": 6,
   "metadata": {
    "collapsed": true
   },
   "outputs": [],
   "source": [
    "#convert season listing (e.g., 1842-43) to a single leading year (1842)\n",
    "def simplify_date(hyphenated_season):\n",
    "    simple_season = re.sub(r'(\\d{4})-\\d{2}',r'\\1',hyphenated_season)\n",
    "    return simple_season\n",
    "\n",
    "#get the composer's last name only from the worksComposerTitle elements\n",
    "def get_name(work):\n",
    "    composer_name = re.sub(r'(.*?)(,| \\[).*',r'\\1',work)\n",
    "    composer_name = re.sub(r\"(.*)'(.*)\",r\"\\1\\\\'\\2\",composer_name)\n",
    "    return composer_name\n",
    "\n",
    "#gather info from XML file\n",
    "all_seasons = []\n",
    "composers = []\n",
    "current_season = '1842'\n",
    "total_works = 0\n",
    "\n",
    "for c in concerts:\n",
    "    season = simplify_date(c.find('season').text)\n",
    "\n",
    "    if season != current_season:\n",
    "        counted_composers = list(Counter(composers).items())\n",
    "        all_seasons.append([current_season, total_works, counted_composers])\n",
    "        current_season = season\n",
    "        total_works = 0\n",
    "        composers = []\n",
    "        continue\n",
    "    else:\n",
    "        for work in c.findall('.//worksComposerTitle'):\n",
    "            composer = get_name(work.text)\n",
    "            if not re.match(r'Intermission',composer):\n",
    "                composers.append(composer)\n",
    "                total_works += 1\n",
    "            else:\n",
    "                pass\n",
    "\n",
    "#open mysql connection\n",
    "# db = MySQLdb.connect(host=\"localhost\",user=\"root\",db=\"ny_phil\")\n",
    "db = sqlite3.connect('ny_phil.sqlite')\n",
    "c = db.cursor()\n",
    "c.execute(\"DROP TABLE IF EXISTS Composers\")\n",
    "c.execute(\"DROP TABLE IF EXISTS Years\")\n",
    "c.execute(\"DROP TABLE IF EXISTS Works\")\n",
    "c.execute(\"CREATE TABLE Composers(name VARCHAR(40))\")\n",
    "c.execute(\"CREATE TABLE Years(year INT, total_works INT)\")\n",
    "c.execute(\"CREATE TABLE Works(year INT, number_works INT, composer VARCHAR(40))\")\n",
    "\n",
    "#put data into mysql\n",
    "composers_set = set()\n",
    "set_years = set()\n",
    "years = {}\n",
    "\n",
    "for s in all_seasons:\n",
    "    if int(s[0]) not in set_years:\n",
    "        set_years.add(int(s[0]))\n",
    "        years[s[0]] = int(s[1])\n",
    "    else:\n",
    "        years[s[0]] += int(s[1])\n",
    "    for x in s[2]:\n",
    "        composers_set.add(x[0])\n",
    "\n",
    "for x in composers_set:\n",
    "    c.execute(\"INSERT INTO Composers VALUE('%s')\"%x)\n",
    "\n",
    "for key, value in years.items():\n",
    "    c.execute(\"INSERT INTO Years VALUES(%d,%d)\"%(int(key),value))\n",
    "\n",
    "for s in all_seasons:\n",
    "    for x in s[2]:\n",
    "        c.execute(\"INSERT INTO Works VALUES(%d,%d,'%s')\"%(int(s[0]),x[1],x[0]))"
   ]
  },
  {
   "cell_type": "code",
   "execution_count": 7,
   "metadata": {
    "collapsed": false
   },
   "outputs": [
    {
     "data": {
      "text/plain": [
       "set()"
      ]
     },
     "execution_count": 7,
     "metadata": {},
     "output_type": "execute_result"
    }
   ],
   "source": [
    "composers_set"
   ]
  },
  {
   "cell_type": "code",
   "execution_count": 8,
   "metadata": {
    "collapsed": false
   },
   "outputs": [
    {
     "data": {
      "text/plain": [
       "[['1842', 0, []],\n",
       " ['2016', 0, []],\n",
       " ['2011', 0, []],\n",
       " ['2012', 0, []],\n",
       " ['2013', 0, []],\n",
       " ['2012', 0, []],\n",
       " ['2013', 0, []],\n",
       " ['2014', 0, []]]"
      ]
     },
     "execution_count": 8,
     "metadata": {},
     "output_type": "execute_result"
    }
   ],
   "source": [
    "all_seasons"
   ]
  },
  {
   "cell_type": "code",
   "execution_count": 33,
   "metadata": {
    "collapsed": true
   },
   "outputs": [],
   "source": [
    "       \n",
    "#query and plot\n",
    "query = \"\"\"SELECT Years.year,(Works.number_works/Years.total_works*100) AS percent, Works.composer FROM Works\n",
    "JOIN Years ON Works.year=Years.year\n",
    "WHERE Works.composer='%s'\"\"\"\n",
    "\n",
    "composer_list = ['Beethoven','Mozart','Wagner','Tchaikovsky','Strauss','Brahms','Mendelssohn','Bach','Berlioz','Dvorak','Gershwin']\n",
    "# composer_list = argv[1:]"
   ]
  },
  {
   "cell_type": "code",
   "execution_count": null,
   "metadata": {
    "collapsed": false
   },
   "outputs": [],
   "source": [
    "for n in composer_list:\n",
    "    print('Composer:', n)\n",
    "    dates = []\n",
    "    fixed = []\n",
    "    \n",
    "    c.execute(query%n)\n",
    "    result = c.fetchall()\n",
    "\n",
    "    for r in result:\n",
    "        dates.append(r[0])\n",
    "        if r[1]:\n",
    "            fixed.append(r[1])\n",
    "        else:\n",
    "            fixed.append(0)        \n",
    "        \n",
    "    # plt.plot(dates,fixed,label=n)\n",
    "\n",
    "plt.legend()\n",
    "plt.show()\n",
    "db.close()"
   ]
  },
  {
   "cell_type": "code",
   "execution_count": 9,
   "metadata": {
    "collapsed": false
   },
   "outputs": [
    {
     "name": "stdout",
     "output_type": "stream",
     "text": [
      "/Users/schofield/Install/BleedingEdge/PerformanceHistory/Scripts\n"
     ]
    },
    {
     "data": {
      "text/plain": [
       "['~/Install/BleedingEdge/PerformanceHistory',\n",
       " '~/Dropbox/PythonCharmers/Talks/MPUG 2016-06-06']"
      ]
     },
     "execution_count": 9,
     "metadata": {},
     "output_type": "execute_result"
    }
   ],
   "source": [
    "%pushd /Users/schofield/Install/BleedingEdge/PerformanceHistory/Scripts/"
   ]
  },
  {
   "cell_type": "code",
   "execution_count": 11,
   "metadata": {
    "collapsed": false
   },
   "outputs": [
    {
     "ename": "ImportError",
     "evalue": "No module named 'MySQLdb'",
     "output_type": "error",
     "traceback": [
      "\u001b[0;31m---------------------------------------------------------------------------\u001b[0m",
      "\u001b[0;31mImportError\u001b[0m                               Traceback (most recent call last)",
      "\u001b[0;32m<ipython-input-11-3bdb5f6539bc>\u001b[0m in \u001b[0;36m<module>\u001b[0;34m()\u001b[0m\n\u001b[0;32m----> 1\u001b[0;31m \u001b[0;32mimport\u001b[0m \u001b[0mcomposer_frequency\u001b[0m\u001b[0;34m\u001b[0m\u001b[0m\n\u001b[0m",
      "\u001b[0;32m/Users/schofield/Install/BleedingEdge/PerformanceHistory/Scripts/composer_frequency.py\u001b[0m in \u001b[0;36m<module>\u001b[0;34m()\u001b[0m\n\u001b[1;32m      6\u001b[0m \u001b[0;32mimport\u001b[0m \u001b[0mmatplotlib\u001b[0m\u001b[0;34m.\u001b[0m\u001b[0mpyplot\u001b[0m \u001b[0;32mas\u001b[0m \u001b[0mplt\u001b[0m\u001b[0;34m\u001b[0m\u001b[0m\n\u001b[1;32m      7\u001b[0m \u001b[0;32mimport\u001b[0m \u001b[0mxml\u001b[0m\u001b[0;34m.\u001b[0m\u001b[0metree\u001b[0m\u001b[0;34m.\u001b[0m\u001b[0mElementTree\u001b[0m \u001b[0;32mas\u001b[0m \u001b[0mET\u001b[0m\u001b[0;34m\u001b[0m\u001b[0m\n\u001b[0;32m----> 8\u001b[0;31m \u001b[0;32mimport\u001b[0m \u001b[0mMySQLdb\u001b[0m\u001b[0;34m\u001b[0m\u001b[0m\n\u001b[0m\u001b[1;32m      9\u001b[0m \u001b[0;34m\u001b[0m\u001b[0m\n\u001b[1;32m     10\u001b[0m \u001b[0;31m#create xml collection of \"docs\" (i.e., programs in NYPhil's definition)\u001b[0m\u001b[0;34m\u001b[0m\u001b[0;34m\u001b[0m\u001b[0m\n",
      "\u001b[0;31mImportError\u001b[0m: No module named 'MySQLdb'"
     ]
    }
   ],
   "source": [
    "import composer_frequency"
   ]
  },
  {
   "cell_type": "code",
   "execution_count": 6,
   "metadata": {
    "collapsed": false
   },
   "outputs": [
    {
     "name": "stdout",
     "output_type": "stream",
     "text": [
      "/Users/schofield/Dropbox/PythonCharmers/Talks/MPUG 2016-06-06\n",
      "popd -> ~/Dropbox/PythonCharmers/Talks/MPUG 2016-06-06\n"
     ]
    }
   ],
   "source": [
    "%popd"
   ]
  },
  {
   "cell_type": "code",
   "execution_count": 3,
   "metadata": {
    "collapsed": false
   },
   "outputs": [
    {
     "name": "stdout",
     "output_type": "stream",
     "text": [
      "total 40\r\n",
      "drwxr-xr-x    7 schofield  staff   238  6 Jun 15:11 \u001b[1m\u001b[34m.\u001b[m\u001b[m\r\n",
      "drwxr-xr-x  120 schofield  staff  4080  2 Jun 11:34 \u001b[1m\u001b[34m..\u001b[m\u001b[m\r\n",
      "drwxr-xr-x   13 schofield  staff   442 30 May 18:16 \u001b[1m\u001b[34m.git\u001b[m\u001b[m\r\n",
      "-rw-r--r--    1 schofield  staff  6555 30 May 18:16 LICENSE\r\n",
      "drwxr-xr-x   17 schofield  staff   578 30 May 18:16 \u001b[1m\u001b[34mPrograms\u001b[m\u001b[m\r\n",
      "-rw-r--r--    1 schofield  staff  9326 30 May 18:16 README.md\r\n",
      "drwxr-xr-x    4 schofield  staff   136  6 Jun 15:12 \u001b[1m\u001b[34mScripts\u001b[m\u001b[m\r\n"
     ]
    }
   ],
   "source": [
    "!ls -al"
   ]
  }
 ],
 "metadata": {
  "kernelspec": {
   "display_name": "Python 3",
   "language": "python",
   "name": "python3"
  },
  "language_info": {
   "codemirror_mode": {
    "name": "ipython",
    "version": 3
   },
   "file_extension": ".py",
   "mimetype": "text/x-python",
   "name": "python",
   "nbconvert_exporter": "python",
   "pygments_lexer": "ipython3",
   "version": "3.4.4"
  }
 },
 "nbformat": 4,
 "nbformat_minor": 0
}
